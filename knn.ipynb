{
 "cells": [
  {
   "cell_type": "code",
   "execution_count": 31,
   "metadata": {
    "collapsed": false
   },
   "outputs": [
    {
     "name": "stdout",
     "output_type": "stream",
     "text": [
      "Populating the interactive namespace from numpy and matplotlib\n"
     ]
    }
   ],
   "source": [
    "import numpy as np\n",
    "import pandas as pd\n",
    "from pandas import DataFrame, Series\n",
    "from matplotlib import pyplot as plt\n",
    "from sklearn.ensemble import RandomForestClassifier\n",
    "from sklearn.neighbors import KNeighborsClassifier\n",
    "from sklearn.svm import SVC\n",
    "from sklearn import cross_validation\n",
    "from sklearn.metrics import roc_auc_score\n",
    "import xgboost as xgb\n",
    "from sklearn import grid_search\n",
    "from sklearn import preprocessing\n",
    "%pylab inline"
   ]
  },
  {
   "cell_type": "code",
   "execution_count": 32,
   "metadata": {
    "collapsed": true
   },
   "outputs": [],
   "source": [
    "d = pd.read_csv('tmp/engineered_features.csv', index_col='file')"
   ]
  },
  {
   "cell_type": "code",
   "execution_count": 33,
   "metadata": {
    "collapsed": true
   },
   "outputs": [],
   "source": [
    "t = d[pd.notnull(d.sponsored)]\n",
    "t = t.fillna(0)\n",
    "s = t.sample(n=15000)\n",
    "d = None\n",
    "t = None"
   ]
  },
  {
   "cell_type": "code",
   "execution_count": 34,
   "metadata": {
    "collapsed": true
   },
   "outputs": [],
   "source": [
    "sl = s.sponsored\n",
    "del s['sponsored']"
   ]
  },
  {
   "cell_type": "code",
   "execution_count": 35,
   "metadata": {
    "collapsed": false
   },
   "outputs": [
    {
     "data": {
      "text/html": [
       "<div>\n",
       "<table border=\"1\" class=\"dataframe\">\n",
       "  <thead>\n",
       "    <tr style=\"text-align: right;\">\n",
       "      <th></th>\n",
       "      <th>count</th>\n",
       "      <th>mean</th>\n",
       "      <th>std</th>\n",
       "      <th>min</th>\n",
       "      <th>25%</th>\n",
       "      <th>50%</th>\n",
       "      <th>75%</th>\n",
       "      <th>max</th>\n",
       "    </tr>\n",
       "  </thead>\n",
       "  <tbody>\n",
       "    <tr>\n",
       "      <th>0</th>\n",
       "      <td>15000</td>\n",
       "      <td>1.209769e-14</td>\n",
       "      <td>1.000033</td>\n",
       "      <td>-1.617654</td>\n",
       "      <td>-0.612140</td>\n",
       "      <td>-0.085428</td>\n",
       "      <td>0.507692</td>\n",
       "      <td>7.794590</td>\n",
       "    </tr>\n",
       "    <tr>\n",
       "      <th>1</th>\n",
       "      <td>15000</td>\n",
       "      <td>-3.633760e-16</td>\n",
       "      <td>1.000033</td>\n",
       "      <td>-1.355416</td>\n",
       "      <td>-0.700918</td>\n",
       "      <td>-0.128232</td>\n",
       "      <td>0.608077</td>\n",
       "      <td>6.089496</td>\n",
       "    </tr>\n",
       "    <tr>\n",
       "      <th>2</th>\n",
       "      <td>15000</td>\n",
       "      <td>-6.786445e-15</td>\n",
       "      <td>1.000033</td>\n",
       "      <td>-2.172470</td>\n",
       "      <td>-0.560412</td>\n",
       "      <td>0.029038</td>\n",
       "      <td>0.609391</td>\n",
       "      <td>4.796162</td>\n",
       "    </tr>\n",
       "    <tr>\n",
       "      <th>3</th>\n",
       "      <td>15000</td>\n",
       "      <td>9.210648e-14</td>\n",
       "      <td>1.000033</td>\n",
       "      <td>-1.219652</td>\n",
       "      <td>-0.679883</td>\n",
       "      <td>-0.176099</td>\n",
       "      <td>0.471623</td>\n",
       "      <td>8.784060</td>\n",
       "    </tr>\n",
       "    <tr>\n",
       "      <th>4</th>\n",
       "      <td>15000</td>\n",
       "      <td>1.529911e-14</td>\n",
       "      <td>1.000033</td>\n",
       "      <td>-2.858970</td>\n",
       "      <td>-0.435460</td>\n",
       "      <td>0.138327</td>\n",
       "      <td>0.648091</td>\n",
       "      <td>2.752328</td>\n",
       "    </tr>\n",
       "    <tr>\n",
       "      <th>5</th>\n",
       "      <td>15000</td>\n",
       "      <td>9.699695e-15</td>\n",
       "      <td>1.000033</td>\n",
       "      <td>-1.047399</td>\n",
       "      <td>-0.622161</td>\n",
       "      <td>-0.196923</td>\n",
       "      <td>0.347382</td>\n",
       "      <td>12.781350</td>\n",
       "    </tr>\n",
       "    <tr>\n",
       "      <th>6</th>\n",
       "      <td>15000</td>\n",
       "      <td>-1.448639e-14</td>\n",
       "      <td>1.000033</td>\n",
       "      <td>-3.523207</td>\n",
       "      <td>-0.268774</td>\n",
       "      <td>0.248959</td>\n",
       "      <td>0.612542</td>\n",
       "      <td>1.547687</td>\n",
       "    </tr>\n",
       "    <tr>\n",
       "      <th>7</th>\n",
       "      <td>15000</td>\n",
       "      <td>5.902964e-15</td>\n",
       "      <td>1.000033</td>\n",
       "      <td>-0.893981</td>\n",
       "      <td>-0.550649</td>\n",
       "      <td>-0.217126</td>\n",
       "      <td>0.253729</td>\n",
       "      <td>16.527669</td>\n",
       "    </tr>\n",
       "    <tr>\n",
       "      <th>8</th>\n",
       "      <td>15000</td>\n",
       "      <td>2.877033e-14</td>\n",
       "      <td>1.000033</td>\n",
       "      <td>-4.301349</td>\n",
       "      <td>-0.086934</td>\n",
       "      <td>0.303524</td>\n",
       "      <td>0.539108</td>\n",
       "      <td>0.872932</td>\n",
       "    </tr>\n",
       "    <tr>\n",
       "      <th>9</th>\n",
       "      <td>15000</td>\n",
       "      <td>-9.984919e-15</td>\n",
       "      <td>1.000033</td>\n",
       "      <td>-0.789097</td>\n",
       "      <td>-0.494424</td>\n",
       "      <td>-0.206604</td>\n",
       "      <td>0.197715</td>\n",
       "      <td>21.283963</td>\n",
       "    </tr>\n",
       "  </tbody>\n",
       "</table>\n",
       "</div>"
      ],
      "text/plain": [
       "   count          mean       std       min       25%       50%       75%  \\\n",
       "0  15000  1.209769e-14  1.000033 -1.617654 -0.612140 -0.085428  0.507692   \n",
       "1  15000 -3.633760e-16  1.000033 -1.355416 -0.700918 -0.128232  0.608077   \n",
       "2  15000 -6.786445e-15  1.000033 -2.172470 -0.560412  0.029038  0.609391   \n",
       "3  15000  9.210648e-14  1.000033 -1.219652 -0.679883 -0.176099  0.471623   \n",
       "4  15000  1.529911e-14  1.000033 -2.858970 -0.435460  0.138327  0.648091   \n",
       "5  15000  9.699695e-15  1.000033 -1.047399 -0.622161 -0.196923  0.347382   \n",
       "6  15000 -1.448639e-14  1.000033 -3.523207 -0.268774  0.248959  0.612542   \n",
       "7  15000  5.902964e-15  1.000033 -0.893981 -0.550649 -0.217126  0.253729   \n",
       "8  15000  2.877033e-14  1.000033 -4.301349 -0.086934  0.303524  0.539108   \n",
       "9  15000 -9.984919e-15  1.000033 -0.789097 -0.494424 -0.206604  0.197715   \n",
       "\n",
       "         max  \n",
       "0   7.794590  \n",
       "1   6.089496  \n",
       "2   4.796162  \n",
       "3   8.784060  \n",
       "4   2.752328  \n",
       "5  12.781350  \n",
       "6   1.547687  \n",
       "7  16.527669  \n",
       "8   0.872932  \n",
       "9  21.283963  "
      ]
     },
     "execution_count": 35,
     "metadata": {},
     "output_type": "execute_result"
    }
   ],
   "source": [
    "s_scaled = preprocessing.scale(s)\n",
    "s_scaled = DataFrame(s_scaled)\n",
    "s_scaled.describe().T[:10]"
   ]
  },
  {
   "cell_type": "code",
   "execution_count": 36,
   "metadata": {
    "collapsed": true
   },
   "outputs": [],
   "source": [
    "ss = s_scaled\n",
    "sst = ss[:10000]\n",
    "sstl = sl[:10000]\n",
    "sste = ss[10000:]\n",
    "sstel = sl[10000:]"
   ]
  },
  {
   "cell_type": "code",
   "execution_count": 37,
   "metadata": {
    "collapsed": false
   },
   "outputs": [
    {
     "data": {
      "text/plain": [
       "{'n_neighbors': 15, 'p': 1, 'weights': 'distance'}"
      ]
     },
     "execution_count": 37,
     "metadata": {},
     "output_type": "execute_result"
    }
   ],
   "source": [
    "parameters = {\n",
    "    'n_neighbors':[15],\n",
    "    'p': [1],\n",
    "    'weights': ['distance']\n",
    "    }\n",
    "m = KNeighborsClassifier()\n",
    "gsm = grid_search.GridSearchCV(m, parameters, scoring='roc_auc')\n",
    "fm = gsm.fit(sst, sstl)\n",
    "fm.best_params_"
   ]
  },
  {
   "cell_type": "code",
   "execution_count": 49,
   "metadata": {
    "collapsed": false
   },
   "outputs": [
    {
     "data": {
      "text/plain": [
       "0.82098464349624334"
      ]
     },
     "execution_count": 49,
     "metadata": {},
     "output_type": "execute_result"
    }
   ],
   "source": [
    "m = KNeighborsClassifier(n_neighbors=31, p=1, weights='distance')\n",
    "m.fit(sst, sstl)\n",
    "preds = m.predict_proba(sste)\n",
    "roc_auc_score(sstel, preds[:,1])"
   ]
  }
 ],
 "metadata": {
  "kernelspec": {
   "display_name": "Python 2",
   "language": "python",
   "name": "python2"
  },
  "language_info": {
   "codemirror_mode": {
    "name": "ipython",
    "version": 2
   },
   "file_extension": ".py",
   "mimetype": "text/x-python",
   "name": "python",
   "nbconvert_exporter": "python",
   "pygments_lexer": "ipython2",
   "version": "2.7.10"
  }
 },
 "nbformat": 4,
 "nbformat_minor": 0
}
