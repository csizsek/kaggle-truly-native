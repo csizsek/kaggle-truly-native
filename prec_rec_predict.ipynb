{
 "cells": [
  {
   "cell_type": "code",
   "execution_count": 120,
   "metadata": {
    "collapsed": false
   },
   "outputs": [
    {
     "name": "stdout",
     "output_type": "stream",
     "text": [
      "Populating the interactive namespace from numpy and matplotlib\n"
     ]
    }
   ],
   "source": [
    "import numpy as np\n",
    "import pandas as pd\n",
    "from pandas import DataFrame, Series\n",
    "from matplotlib import pyplot as plt\n",
    "from sklearn.ensemble import RandomForestClassifier\n",
    "from sklearn.cross_validation import cross_val_score\n",
    "%pylab inline"
   ]
  },
  {
   "cell_type": "code",
   "execution_count": 121,
   "metadata": {
    "collapsed": false
   },
   "outputs": [
    {
     "name": "stdout",
     "output_type": "stream",
     "text": [
      "<class 'pandas.core.frame.DataFrame'>\n",
      "Int64Index: 337024 entries, 0 to 337023\n",
      "Data columns (total 2 columns):\n",
      "file         337024 non-null object\n",
      "sponsored    337024 non-null int64\n",
      "dtypes: int64(1), object(1)\n",
      "memory usage: 7.7+ MB\n"
     ]
    }
   ],
   "source": [
    "tr = pd.read_csv('input/train_v2.csv')\n",
    "tr.info()"
   ]
  },
  {
   "cell_type": "code",
   "execution_count": 122,
   "metadata": {
    "collapsed": false
   },
   "outputs": [
    {
     "name": "stdout",
     "output_type": "stream",
     "text": [
      "<class 'pandas.core.frame.DataFrame'>\n",
      "Int64Index: 66772 entries, 0 to 66771\n",
      "Data columns (total 2 columns):\n",
      "file         66772 non-null object\n",
      "sponsored    66772 non-null int64\n",
      "dtypes: int64(1), object(1)\n",
      "memory usage: 1.5+ MB\n"
     ]
    }
   ],
   "source": [
    "te = pd.read_csv('input/sampleSubmission_v2.csv')\n",
    "te.info()"
   ]
  },
  {
   "cell_type": "code",
   "execution_count": 123,
   "metadata": {
    "collapsed": false
   },
   "outputs": [
    {
     "data": {
      "text/html": [
       "<div>\n",
       "<table border=\"1\" class=\"dataframe\">\n",
       "  <thead>\n",
       "    <tr style=\"text-align: right;\">\n",
       "      <th></th>\n",
       "      <th>file</th>\n",
       "      <th>sponsored</th>\n",
       "    </tr>\n",
       "  </thead>\n",
       "  <tbody>\n",
       "    <tr>\n",
       "      <th>0</th>\n",
       "      <td>119_raw_html.txt</td>\n",
       "      <td>0</td>\n",
       "    </tr>\n",
       "    <tr>\n",
       "      <th>1</th>\n",
       "      <td>167_raw_html.txt</td>\n",
       "      <td>0</td>\n",
       "    </tr>\n",
       "    <tr>\n",
       "      <th>2</th>\n",
       "      <td>329_raw_html.txt</td>\n",
       "      <td>0</td>\n",
       "    </tr>\n",
       "    <tr>\n",
       "      <th>3</th>\n",
       "      <td>419_raw_html.txt</td>\n",
       "      <td>0</td>\n",
       "    </tr>\n",
       "    <tr>\n",
       "      <th>4</th>\n",
       "      <td>431_raw_html.txt</td>\n",
       "      <td>0</td>\n",
       "    </tr>\n",
       "  </tbody>\n",
       "</table>\n",
       "</div>"
      ],
      "text/plain": [
       "               file  sponsored\n",
       "0  119_raw_html.txt          0\n",
       "1  167_raw_html.txt          0\n",
       "2  329_raw_html.txt          0\n",
       "3  419_raw_html.txt          0\n",
       "4  431_raw_html.txt          0"
      ]
     },
     "execution_count": 123,
     "metadata": {},
     "output_type": "execute_result"
    }
   ],
   "source": [
    "te[:5]"
   ]
  },
  {
   "cell_type": "code",
   "execution_count": 124,
   "metadata": {
    "collapsed": false
   },
   "outputs": [],
   "source": [
    "te.sponsored = np.nan"
   ]
  },
  {
   "cell_type": "code",
   "execution_count": 125,
   "metadata": {
    "collapsed": false
   },
   "outputs": [
    {
     "name": "stdout",
     "output_type": "stream",
     "text": [
      "<class 'pandas.core.frame.DataFrame'>\n",
      "Int64Index: 66772 entries, 0 to 66771\n",
      "Data columns (total 2 columns):\n",
      "file         66772 non-null object\n",
      "sponsored    0 non-null float64\n",
      "dtypes: float64(1), object(1)\n",
      "memory usage: 1.5+ MB\n"
     ]
    }
   ],
   "source": [
    "te.info()"
   ]
  },
  {
   "cell_type": "code",
   "execution_count": 126,
   "metadata": {
    "collapsed": false
   },
   "outputs": [
    {
     "name": "stdout",
     "output_type": "stream",
     "text": [
      "<class 'pandas.core.frame.DataFrame'>\n",
      "Int64Index: 403796 entries, 0 to 66771\n",
      "Data columns (total 2 columns):\n",
      "file         403796 non-null object\n",
      "sponsored    337024 non-null float64\n",
      "dtypes: float64(1), object(1)\n",
      "memory usage: 9.2+ MB\n"
     ]
    }
   ],
   "source": [
    "t = pd.concat([tr, te])\n",
    "t.info()"
   ]
  },
  {
   "cell_type": "code",
   "execution_count": 127,
   "metadata": {
    "collapsed": false
   },
   "outputs": [
    {
     "name": "stdout",
     "output_type": "stream",
     "text": [
      "<class 'pandas.core.frame.DataFrame'>\n",
      "Int64Index: 404076 entries, 0 to 404075\n",
      "Data columns (total 13 columns):\n",
      "file      404076 non-null object\n",
      "p100      404076 non-null float64\n",
      "r100      404076 non-null float64\n",
      "p300      404076 non-null float64\n",
      "r300      404076 non-null float64\n",
      "p1000     404076 non-null float64\n",
      "r1000     404076 non-null float64\n",
      "p3000     404076 non-null float64\n",
      "r3000     404076 non-null float64\n",
      "p10000    404076 non-null float64\n",
      "r10000    404076 non-null float64\n",
      "p30000    404076 non-null float64\n",
      "r30000    404076 non-null float64\n",
      "dtypes: float64(12), object(1)\n",
      "memory usage: 43.2+ MB\n"
     ]
    }
   ],
   "source": [
    "prb = pd.read_csv('tmp/prec_rec_body.txt')\n",
    "prb.info()"
   ]
  },
  {
   "cell_type": "code",
   "execution_count": 128,
   "metadata": {
    "collapsed": false
   },
   "outputs": [
    {
     "data": {
      "text/html": [
       "<div>\n",
       "<table border=\"1\" class=\"dataframe\">\n",
       "  <thead>\n",
       "    <tr style=\"text-align: right;\">\n",
       "      <th></th>\n",
       "      <th>count</th>\n",
       "      <th>mean</th>\n",
       "      <th>std</th>\n",
       "      <th>min</th>\n",
       "      <th>25%</th>\n",
       "      <th>50%</th>\n",
       "      <th>75%</th>\n",
       "      <th>max</th>\n",
       "    </tr>\n",
       "  </thead>\n",
       "  <tbody>\n",
       "    <tr>\n",
       "      <th>p100</th>\n",
       "      <td>404076</td>\n",
       "      <td>0.176952</td>\n",
       "      <td>0.104874</td>\n",
       "      <td>0</td>\n",
       "      <td>0.117647</td>\n",
       "      <td>0.173838</td>\n",
       "      <td>0.231250</td>\n",
       "      <td>1.000000</td>\n",
       "    </tr>\n",
       "    <tr>\n",
       "      <th>r100</th>\n",
       "      <td>404076</td>\n",
       "      <td>0.331499</td>\n",
       "      <td>0.197650</td>\n",
       "      <td>0</td>\n",
       "      <td>0.190000</td>\n",
       "      <td>0.340000</td>\n",
       "      <td>0.470000</td>\n",
       "      <td>0.990000</td>\n",
       "    </tr>\n",
       "    <tr>\n",
       "      <th>p300</th>\n",
       "      <td>404076</td>\n",
       "      <td>0.317633</td>\n",
       "      <td>0.150623</td>\n",
       "      <td>0</td>\n",
       "      <td>0.250459</td>\n",
       "      <td>0.329832</td>\n",
       "      <td>0.406548</td>\n",
       "      <td>1.000000</td>\n",
       "    </tr>\n",
       "    <tr>\n",
       "      <th>r300</th>\n",
       "      <td>404076</td>\n",
       "      <td>0.237001</td>\n",
       "      <td>0.156656</td>\n",
       "      <td>0</td>\n",
       "      <td>0.120000</td>\n",
       "      <td>0.230000</td>\n",
       "      <td>0.336667</td>\n",
       "      <td>0.996667</td>\n",
       "    </tr>\n",
       "    <tr>\n",
       "      <th>p1000</th>\n",
       "      <td>404076</td>\n",
       "      <td>0.517236</td>\n",
       "      <td>0.203220</td>\n",
       "      <td>0</td>\n",
       "      <td>0.471522</td>\n",
       "      <td>0.559585</td>\n",
       "      <td>0.638376</td>\n",
       "      <td>1.000000</td>\n",
       "    </tr>\n",
       "    <tr>\n",
       "      <th>r1000</th>\n",
       "      <td>404076</td>\n",
       "      <td>0.137265</td>\n",
       "      <td>0.106157</td>\n",
       "      <td>0</td>\n",
       "      <td>0.062000</td>\n",
       "      <td>0.123000</td>\n",
       "      <td>0.191000</td>\n",
       "      <td>0.987000</td>\n",
       "    </tr>\n",
       "    <tr>\n",
       "      <th>p3000</th>\n",
       "      <td>404076</td>\n",
       "      <td>0.692964</td>\n",
       "      <td>0.242882</td>\n",
       "      <td>0</td>\n",
       "      <td>0.687845</td>\n",
       "      <td>0.767834</td>\n",
       "      <td>0.827214</td>\n",
       "      <td>1.000000</td>\n",
       "    </tr>\n",
       "    <tr>\n",
       "      <th>r3000</th>\n",
       "      <td>404076</td>\n",
       "      <td>0.068882</td>\n",
       "      <td>0.061842</td>\n",
       "      <td>0</td>\n",
       "      <td>0.027667</td>\n",
       "      <td>0.057667</td>\n",
       "      <td>0.093000</td>\n",
       "      <td>0.946000</td>\n",
       "    </tr>\n",
       "    <tr>\n",
       "      <th>p10000</th>\n",
       "      <td>404076</td>\n",
       "      <td>0.811734</td>\n",
       "      <td>0.262722</td>\n",
       "      <td>0</td>\n",
       "      <td>0.848024</td>\n",
       "      <td>0.905048</td>\n",
       "      <td>0.939024</td>\n",
       "      <td>1.000000</td>\n",
       "    </tr>\n",
       "    <tr>\n",
       "      <th>r10000</th>\n",
       "      <td>404076</td>\n",
       "      <td>0.026017</td>\n",
       "      <td>0.026198</td>\n",
       "      <td>0</td>\n",
       "      <td>0.010100</td>\n",
       "      <td>0.020800</td>\n",
       "      <td>0.034200</td>\n",
       "      <td>0.721300</td>\n",
       "    </tr>\n",
       "    <tr>\n",
       "      <th>p30000</th>\n",
       "      <td>404076</td>\n",
       "      <td>0.863386</td>\n",
       "      <td>0.264376</td>\n",
       "      <td>0</td>\n",
       "      <td>0.915966</td>\n",
       "      <td>0.957606</td>\n",
       "      <td>0.978033</td>\n",
       "      <td>1.000000</td>\n",
       "    </tr>\n",
       "    <tr>\n",
       "      <th>r30000</th>\n",
       "      <td>404076</td>\n",
       "      <td>0.009513</td>\n",
       "      <td>0.010011</td>\n",
       "      <td>0</td>\n",
       "      <td>0.003767</td>\n",
       "      <td>0.007533</td>\n",
       "      <td>0.012300</td>\n",
       "      <td>0.380267</td>\n",
       "    </tr>\n",
       "  </tbody>\n",
       "</table>\n",
       "</div>"
      ],
      "text/plain": [
       "         count      mean       std  min       25%       50%       75%  \\\n",
       "p100    404076  0.176952  0.104874    0  0.117647  0.173838  0.231250   \n",
       "r100    404076  0.331499  0.197650    0  0.190000  0.340000  0.470000   \n",
       "p300    404076  0.317633  0.150623    0  0.250459  0.329832  0.406548   \n",
       "r300    404076  0.237001  0.156656    0  0.120000  0.230000  0.336667   \n",
       "p1000   404076  0.517236  0.203220    0  0.471522  0.559585  0.638376   \n",
       "r1000   404076  0.137265  0.106157    0  0.062000  0.123000  0.191000   \n",
       "p3000   404076  0.692964  0.242882    0  0.687845  0.767834  0.827214   \n",
       "r3000   404076  0.068882  0.061842    0  0.027667  0.057667  0.093000   \n",
       "p10000  404076  0.811734  0.262722    0  0.848024  0.905048  0.939024   \n",
       "r10000  404076  0.026017  0.026198    0  0.010100  0.020800  0.034200   \n",
       "p30000  404076  0.863386  0.264376    0  0.915966  0.957606  0.978033   \n",
       "r30000  404076  0.009513  0.010011    0  0.003767  0.007533  0.012300   \n",
       "\n",
       "             max  \n",
       "p100    1.000000  \n",
       "r100    0.990000  \n",
       "p300    1.000000  \n",
       "r300    0.996667  \n",
       "p1000   1.000000  \n",
       "r1000   0.987000  \n",
       "p3000   1.000000  \n",
       "r3000   0.946000  \n",
       "p10000  1.000000  \n",
       "r10000  0.721300  \n",
       "p30000  1.000000  \n",
       "r30000  0.380267  "
      ]
     },
     "execution_count": 128,
     "metadata": {},
     "output_type": "execute_result"
    }
   ],
   "source": [
    "prb.describe().T"
   ]
  },
  {
   "cell_type": "code",
   "execution_count": 129,
   "metadata": {
    "collapsed": false
   },
   "outputs": [
    {
     "name": "stdout",
     "output_type": "stream",
     "text": [
      "<class 'pandas.core.frame.DataFrame'>\n",
      "Int64Index: 403796 entries, 0 to 403795\n",
      "Data columns (total 14 columns):\n",
      "file         403796 non-null object\n",
      "sponsored    337024 non-null float64\n",
      "p100         403796 non-null float64\n",
      "r100         403796 non-null float64\n",
      "p300         403796 non-null float64\n",
      "r300         403796 non-null float64\n",
      "p1000        403796 non-null float64\n",
      "r1000        403796 non-null float64\n",
      "p3000        403796 non-null float64\n",
      "r3000        403796 non-null float64\n",
      "p10000       403796 non-null float64\n",
      "r10000       403796 non-null float64\n",
      "p30000       403796 non-null float64\n",
      "r30000       403796 non-null float64\n",
      "dtypes: float64(13), object(1)\n",
      "memory usage: 46.2+ MB\n"
     ]
    }
   ],
   "source": [
    "x = pd.merge(t, prb, on='file', how='left')\n",
    "x.info()"
   ]
  },
  {
   "cell_type": "code",
   "execution_count": 130,
   "metadata": {
    "collapsed": false
   },
   "outputs": [
    {
     "name": "stdout",
     "output_type": "stream",
     "text": [
      "<class 'pandas.core.frame.DataFrame'>\n",
      "Int64Index: 404076 entries, 0 to 404075\n",
      "Data columns (total 13 columns):\n",
      "file      404076 non-null object\n",
      "p100      404076 non-null float64\n",
      "r100      404076 non-null float64\n",
      "p300      404076 non-null float64\n",
      "r300      404076 non-null float64\n",
      "p1000     404076 non-null float64\n",
      "r1000     404076 non-null float64\n",
      "p3000     404076 non-null float64\n",
      "r3000     404076 non-null float64\n",
      "p10000    404076 non-null float64\n",
      "r10000    404076 non-null float64\n",
      "p30000    404076 non-null float64\n",
      "r30000    404076 non-null float64\n",
      "dtypes: float64(12), object(1)\n",
      "memory usage: 43.2+ MB\n"
     ]
    }
   ],
   "source": [
    "prt = pd.read_csv('tmp/prec_rec_title.txt')\n",
    "prt.info()"
   ]
  },
  {
   "cell_type": "code",
   "execution_count": 131,
   "metadata": {
    "collapsed": false
   },
   "outputs": [
    {
     "name": "stdout",
     "output_type": "stream",
     "text": [
      "<class 'pandas.core.frame.DataFrame'>\n",
      "Int64Index: 403796 entries, 0 to 403795\n",
      "Data columns (total 26 columns):\n",
      "file            403796 non-null object\n",
      "sponsored       337024 non-null float64\n",
      "p100            403796 non-null float64\n",
      "r100            403796 non-null float64\n",
      "p300            403796 non-null float64\n",
      "r300            403796 non-null float64\n",
      "p1000           403796 non-null float64\n",
      "r1000           403796 non-null float64\n",
      "p3000           403796 non-null float64\n",
      "r3000           403796 non-null float64\n",
      "p10000          403796 non-null float64\n",
      "r10000          403796 non-null float64\n",
      "p30000          403796 non-null float64\n",
      "r30000          403796 non-null float64\n",
      "p100_title      403796 non-null float64\n",
      "r100_title      403796 non-null float64\n",
      "p300_title      403796 non-null float64\n",
      "r300_title      403796 non-null float64\n",
      "p1000_title     403796 non-null float64\n",
      "r1000_title     403796 non-null float64\n",
      "p3000_title     403796 non-null float64\n",
      "r3000_title     403796 non-null float64\n",
      "p10000_title    403796 non-null float64\n",
      "r10000_title    403796 non-null float64\n",
      "p30000_title    403796 non-null float64\n",
      "r30000_title    403796 non-null float64\n",
      "dtypes: float64(25), object(1)\n",
      "memory usage: 83.2+ MB\n"
     ]
    }
   ],
   "source": [
    "y = pd.merge(x, prt, on='file', how='left', suffixes=('','_title'))\n",
    "y.info()"
   ]
  },
  {
   "cell_type": "code",
   "execution_count": 132,
   "metadata": {
    "collapsed": true
   },
   "outputs": [],
   "source": [
    "y.index = y.file\n",
    "del y['file']"
   ]
  },
  {
   "cell_type": "code",
   "execution_count": 133,
   "metadata": {
    "collapsed": false
   },
   "outputs": [
    {
     "name": "stdout",
     "output_type": "stream",
     "text": [
      "<class 'pandas.core.frame.DataFrame'>\n",
      "Index: 337024 entries, 3093804_raw_html.txt to 3198940_raw_html.txt\n",
      "Data columns (total 25 columns):\n",
      "sponsored       337024 non-null float64\n",
      "p100            337024 non-null float64\n",
      "r100            337024 non-null float64\n",
      "p300            337024 non-null float64\n",
      "r300            337024 non-null float64\n",
      "p1000           337024 non-null float64\n",
      "r1000           337024 non-null float64\n",
      "p3000           337024 non-null float64\n",
      "r3000           337024 non-null float64\n",
      "p10000          337024 non-null float64\n",
      "r10000          337024 non-null float64\n",
      "p30000          337024 non-null float64\n",
      "r30000          337024 non-null float64\n",
      "p100_title      337024 non-null float64\n",
      "r100_title      337024 non-null float64\n",
      "p300_title      337024 non-null float64\n",
      "r300_title      337024 non-null float64\n",
      "p1000_title     337024 non-null float64\n",
      "r1000_title     337024 non-null float64\n",
      "p3000_title     337024 non-null float64\n",
      "r3000_title     337024 non-null float64\n",
      "p10000_title    337024 non-null float64\n",
      "r10000_title    337024 non-null float64\n",
      "p30000_title    337024 non-null float64\n",
      "r30000_title    337024 non-null float64\n",
      "dtypes: float64(25)\n",
      "memory usage: 66.9+ MB\n"
     ]
    }
   ],
   "source": [
    "tr = y[pd.notnull(y.sponsored)]\n",
    "tr.info()"
   ]
  },
  {
   "cell_type": "code",
   "execution_count": 134,
   "metadata": {
    "collapsed": true
   },
   "outputs": [],
   "source": [
    "trl = tr.sponsored\n",
    "del tr['sponsored']"
   ]
  },
  {
   "cell_type": "code",
   "execution_count": 135,
   "metadata": {
    "collapsed": false
   },
   "outputs": [
    {
     "name": "stdout",
     "output_type": "stream",
     "text": [
      "<class 'pandas.core.frame.DataFrame'>\n",
      "Index: 66772 entries, 119_raw_html.txt to 4059503_raw_html.txt\n",
      "Data columns (total 24 columns):\n",
      "p100            66772 non-null float64\n",
      "r100            66772 non-null float64\n",
      "p300            66772 non-null float64\n",
      "r300            66772 non-null float64\n",
      "p1000           66772 non-null float64\n",
      "r1000           66772 non-null float64\n",
      "p3000           66772 non-null float64\n",
      "r3000           66772 non-null float64\n",
      "p10000          66772 non-null float64\n",
      "r10000          66772 non-null float64\n",
      "p30000          66772 non-null float64\n",
      "r30000          66772 non-null float64\n",
      "p100_title      66772 non-null float64\n",
      "r100_title      66772 non-null float64\n",
      "p300_title      66772 non-null float64\n",
      "r300_title      66772 non-null float64\n",
      "p1000_title     66772 non-null float64\n",
      "r1000_title     66772 non-null float64\n",
      "p3000_title     66772 non-null float64\n",
      "r3000_title     66772 non-null float64\n",
      "p10000_title    66772 non-null float64\n",
      "r10000_title    66772 non-null float64\n",
      "p30000_title    66772 non-null float64\n",
      "r30000_title    66772 non-null float64\n",
      "dtypes: float64(24)\n",
      "memory usage: 12.7+ MB\n"
     ]
    }
   ],
   "source": [
    "te = y[pd.isnull(y.sponsored)]\n",
    "del te['sponsored']\n",
    "te.info()"
   ]
  },
  {
   "cell_type": "code",
   "execution_count": 136,
   "metadata": {
    "collapsed": false
   },
   "outputs": [],
   "source": [
    "m = RandomForestClassifier(n_estimators=200, max_depth=10, oob_score=True, n_jobs=4)"
   ]
  },
  {
   "cell_type": "code",
   "execution_count": 137,
   "metadata": {
    "collapsed": false
   },
   "outputs": [
    {
     "data": {
      "text/plain": [
       "RandomForestClassifier(bootstrap=True, class_weight=None, criterion='gini',\n",
       "            max_depth=10, max_features='auto', max_leaf_nodes=None,\n",
       "            min_samples_leaf=1, min_samples_split=2,\n",
       "            min_weight_fraction_leaf=0.0, n_estimators=200, n_jobs=4,\n",
       "            oob_score=True, random_state=None, verbose=0, warm_start=False)"
      ]
     },
     "execution_count": 137,
     "metadata": {},
     "output_type": "execute_result"
    }
   ],
   "source": [
    "m.fit(tr, trl)"
   ]
  },
  {
   "cell_type": "code",
   "execution_count": 138,
   "metadata": {
    "collapsed": false
   },
   "outputs": [
    {
     "name": "stdout",
     "output_type": "stream",
     "text": [
      "<class 'pandas.core.frame.DataFrame'>\n",
      "Int64Index: 66772 entries, 0 to 66771\n",
      "Data columns (total 2 columns):\n",
      "file         66772 non-null object\n",
      "sponsored    66772 non-null float64\n",
      "dtypes: float64(1), object(1)\n",
      "memory usage: 1.5+ MB\n"
     ]
    }
   ],
   "source": [
    "preds = DataFrame(m.predict_proba(te))[1]\n",
    "sub = DataFrame({'file': te.index, 'sponsored': preds})\n",
    "sub.info()"
   ]
  },
  {
   "cell_type": "code",
   "execution_count": 139,
   "metadata": {
    "collapsed": true
   },
   "outputs": [],
   "source": [
    "sub.to_csv('output/prec_rec_01.csv', index=False)"
   ]
  }
 ],
 "metadata": {
  "kernelspec": {
   "display_name": "Python 2",
   "language": "python",
   "name": "python2"
  },
  "language_info": {
   "codemirror_mode": {
    "name": "ipython",
    "version": 2
   },
   "file_extension": ".py",
   "mimetype": "text/x-python",
   "name": "python",
   "nbconvert_exporter": "python",
   "pygments_lexer": "ipython2",
   "version": "2.7.10"
  }
 },
 "nbformat": 4,
 "nbformat_minor": 0
}
