{
 "cells": [
  {
   "cell_type": "code",
   "execution_count": 1,
   "metadata": {
    "collapsed": false
   },
   "outputs": [
    {
     "name": "stdout",
     "output_type": "stream",
     "text": [
      "Populating the interactive namespace from numpy and matplotlib\n"
     ]
    }
   ],
   "source": [
    "import numpy as np\n",
    "import pandas as pd\n",
    "from pandas import DataFrame, Series\n",
    "from matplotlib import pyplot as plt\n",
    "from sklearn.ensemble import RandomForestClassifier\n",
    "from sklearn.neighbors import KNeighborsClassifier\n",
    "from sklearn.svm import SVC\n",
    "from sklearn import cross_validation\n",
    "from sklearn.metrics import roc_auc_score\n",
    "import xgboost as xgb\n",
    "from sklearn import grid_search\n",
    "%pylab inline"
   ]
  },
  {
   "cell_type": "code",
   "execution_count": 2,
   "metadata": {
    "collapsed": true
   },
   "outputs": [],
   "source": [
    "d = pd.read_csv('tmp/engineered_features.csv', index_col='file')"
   ]
  },
  {
   "cell_type": "code",
   "execution_count": 3,
   "metadata": {
    "collapsed": false
   },
   "outputs": [],
   "source": [
    "t = d[pd.notnull(d.sponsored)]\n",
    "t = t.fillna(0)"
   ]
  },
  {
   "cell_type": "code",
   "execution_count": 4,
   "metadata": {
    "collapsed": false
   },
   "outputs": [],
   "source": [
    "s = t.sample(n=15000)"
   ]
  },
  {
   "cell_type": "code",
   "execution_count": 5,
   "metadata": {
    "collapsed": true
   },
   "outputs": [],
   "source": [
    "d = None\n",
    "t = None"
   ]
  },
  {
   "cell_type": "code",
   "execution_count": 6,
   "metadata": {
    "collapsed": false
   },
   "outputs": [],
   "source": [
    "st = s[:10000]\n",
    "#st.info()"
   ]
  },
  {
   "cell_type": "code",
   "execution_count": 7,
   "metadata": {
    "collapsed": false
   },
   "outputs": [],
   "source": [
    "ste = s[10000:]\n",
    "#ste.info()"
   ]
  },
  {
   "cell_type": "code",
   "execution_count": 8,
   "metadata": {
    "collapsed": false
   },
   "outputs": [],
   "source": [
    "stl = st.sponsored\n",
    "del st['sponsored']"
   ]
  },
  {
   "cell_type": "code",
   "execution_count": 9,
   "metadata": {
    "collapsed": true
   },
   "outputs": [],
   "source": [
    "stel = ste.sponsored\n",
    "del ste['sponsored']"
   ]
  },
  {
   "cell_type": "code",
   "execution_count": 12,
   "metadata": {
    "collapsed": false
   },
   "outputs": [
    {
     "data": {
      "text/plain": [
       "{'learning_rate': 0.03, 'max_depth': 20, 'n_estimators': 600, 'nthread': 4}"
      ]
     },
     "execution_count": 12,
     "metadata": {},
     "output_type": "execute_result"
    }
   ],
   "source": [
    "parameters = {\n",
    "    'max_depth':[5, 10, 20],\n",
    "    'n_estimators':[200, 400, 600],\n",
    "    'learning_rate': [0.03, 0.05, 0.08],\n",
    "    'nthread': [4]}\n",
    "m = xgb.XGBClassifier()\n",
    "gsm = grid_search.GridSearchCV(m, parameters, scoring='roc_auc')\n",
    "fm = gsm.fit(st, stl)\n",
    "fm.best_params_"
   ]
  },
  {
   "cell_type": "code",
   "execution_count": 13,
   "metadata": {
    "collapsed": false
   },
   "outputs": [
    {
     "data": {
      "text/plain": [
       "{'learning_rate': 0.04, 'max_depth': 25, 'n_estimators': 200, 'nthread': 4}"
      ]
     },
     "execution_count": 13,
     "metadata": {},
     "output_type": "execute_result"
    }
   ],
   "source": [
    "parameters = {\n",
    "    'max_depth':[15, 20, 25],\n",
    "    'n_estimators':[200],\n",
    "    'learning_rate': [0.02, 0.03, 0.04],\n",
    "    'nthread': [4]}\n",
    "m = xgb.XGBClassifier()\n",
    "gsm = grid_search.GridSearchCV(m, parameters, scoring='roc_auc')\n",
    "fm = gsm.fit(st, stl)\n",
    "fm.best_params_"
   ]
  },
  {
   "cell_type": "code",
   "execution_count": 15,
   "metadata": {
    "collapsed": false
   },
   "outputs": [
    {
     "data": {
      "text/plain": [
       "{'gamma': 0,\n",
       " 'learning_rate': 0.04,\n",
       " 'max_depth': 25,\n",
       " 'min_child_weight': 5,\n",
       " 'n_estimators': 200,\n",
       " 'nthread': 6}"
      ]
     },
     "execution_count": 15,
     "metadata": {},
     "output_type": "execute_result"
    }
   ],
   "source": [
    "parameters = {\n",
    "    'max_depth':[25],\n",
    "    'n_estimators':[200],\n",
    "    'learning_rate': [0.04],\n",
    "    'gamma': [0, 0.01, 0.1],\n",
    "    'min_child_weight': [5, 10, 20],\n",
    "    'nthread': [6]}\n",
    "m = xgb.XGBClassifier()\n",
    "gsm = grid_search.GridSearchCV(m, parameters, scoring='roc_auc')\n",
    "fm = gsm.fit(st, stl)\n",
    "fm.best_params_"
   ]
  },
  {
   "cell_type": "code",
   "execution_count": 16,
   "metadata": {
    "collapsed": false
   },
   "outputs": [
    {
     "data": {
      "text/plain": [
       "{'gamma': 0.07,\n",
       " 'learning_rate': 0.04,\n",
       " 'max_depth': 25,\n",
       " 'min_child_weight': 2,\n",
       " 'n_estimators': 200,\n",
       " 'nthread': 6}"
      ]
     },
     "execution_count": 16,
     "metadata": {},
     "output_type": "execute_result"
    }
   ],
   "source": [
    "parameters = {\n",
    "    'max_depth':[25],\n",
    "    'n_estimators':[200],\n",
    "    'learning_rate': [0.04],\n",
    "    'gamma': [0, 0.003, 0.07],\n",
    "    'min_child_weight': [1, 2, 5],\n",
    "    'nthread': [6]}\n",
    "m = xgb.XGBClassifier()\n",
    "gsm = grid_search.GridSearchCV(m, parameters, scoring='roc_auc')\n",
    "fm = gsm.fit(st, stl)\n",
    "fm.best_params_"
   ]
  },
  {
   "cell_type": "code",
   "execution_count": null,
   "metadata": {
    "collapsed": true
   },
   "outputs": [],
   "source": []
  }
 ],
 "metadata": {
  "kernelspec": {
   "display_name": "Python 2",
   "language": "python",
   "name": "python2"
  },
  "language_info": {
   "codemirror_mode": {
    "name": "ipython",
    "version": 2
   },
   "file_extension": ".py",
   "mimetype": "text/x-python",
   "name": "python",
   "nbconvert_exporter": "python",
   "pygments_lexer": "ipython2",
   "version": "2.7.10"
  }
 },
 "nbformat": 4,
 "nbformat_minor": 0
}
