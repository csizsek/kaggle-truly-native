{
 "cells": [
  {
   "cell_type": "code",
   "execution_count": 1,
   "metadata": {
    "collapsed": false
   },
   "outputs": [
    {
     "name": "stdout",
     "output_type": "stream",
     "text": [
      "Populating the interactive namespace from numpy and matplotlib\n"
     ]
    }
   ],
   "source": [
    "import numpy as np\n",
    "import pandas as pd\n",
    "from pandas import DataFrame, Series\n",
    "from matplotlib import pyplot as plt\n",
    "from sklearn.ensemble import RandomForestClassifier\n",
    "from sklearn.neighbors import KNeighborsClassifier\n",
    "from sklearn.svm import SVC\n",
    "from sklearn import cross_validation\n",
    "%pylab inline"
   ]
  },
  {
   "cell_type": "code",
   "execution_count": 2,
   "metadata": {
    "collapsed": false
   },
   "outputs": [],
   "source": [
    "w = pd.read_csv('tmp/engineered_features.csv', index_col='file')"
   ]
  },
  {
   "cell_type": "code",
   "execution_count": 3,
   "metadata": {
    "collapsed": false
   },
   "outputs": [
    {
     "name": "stdout",
     "output_type": "stream",
     "text": [
      "<class 'pandas.core.frame.DataFrame'>\n",
      "Index: 403796 entries, 3093804_raw_html.txt to 4059503_raw_html.txt\n",
      "Data columns (total 82 columns):\n",
      "sponsored                     337024 non-null float64\n",
      "p100                          403796 non-null float64\n",
      "r100                          403796 non-null float64\n",
      "p300                          403796 non-null float64\n",
      "r300                          403796 non-null float64\n",
      "p1000                         403796 non-null float64\n",
      "r1000                         403796 non-null float64\n",
      "p3000                         403796 non-null float64\n",
      "r3000                         403796 non-null float64\n",
      "p10000                        403796 non-null float64\n",
      "r10000                        403796 non-null float64\n",
      "p30000                        403796 non-null float64\n",
      "r30000                        403796 non-null float64\n",
      "p100_2                        403796 non-null float64\n",
      "r100_2                        403796 non-null float64\n",
      "p300_2                        403796 non-null float64\n",
      "r300_2                        403796 non-null float64\n",
      "p1000_2                       403796 non-null float64\n",
      "r1000_2                       403796 non-null float64\n",
      "p3000_2                       403796 non-null float64\n",
      "r3000_2                       403796 non-null float64\n",
      "p10000_2                      403796 non-null float64\n",
      "r10000_2                      403796 non-null float64\n",
      "p30000_2                      403796 non-null float64\n",
      "r30000_2                      403796 non-null float64\n",
      "p100_3                        403796 non-null float64\n",
      "r100_3                        403796 non-null float64\n",
      "p300_3                        403796 non-null float64\n",
      "r300_3                        403796 non-null float64\n",
      "p1000_3                       403796 non-null float64\n",
      "r1000_3                       403796 non-null float64\n",
      "p3000_3                       403796 non-null float64\n",
      "r3000_3                       403796 non-null float64\n",
      "p10000_3                      403796 non-null float64\n",
      "r10000_3                      403796 non-null float64\n",
      "p30000_3                      403796 non-null float64\n",
      "r30000_3                      403796 non-null float64\n",
      "n_title_chars                 403620 non-null float64\n",
      "n_title_words                 403620 non-null float64\n",
      "n_links                       403620 non-null float64\n",
      "n_links_rel                   403620 non-null float64\n",
      "n_links_abs                   403620 non-null float64\n",
      "n_links_domain_com            403620 non-null float64\n",
      "n_links_domain_org            403620 non-null float64\n",
      "n_links_scheme_none           403620 non-null float64\n",
      "n_links_scheme_http           403620 non-null float64\n",
      "n_links_scheme_https          403620 non-null float64\n",
      "n_links_path_nonempty         403620 non-null float64\n",
      "n_imgs                        403620 non-null float64\n",
      "n_imgs_rel                    403620 non-null float64\n",
      "n_imgs_abs                    403620 non-null float64\n",
      "n_imgs_fmt_jpg                403620 non-null float64\n",
      "n_imgs_fmt_gif                403620 non-null float64\n",
      "n_imgs_fmt_png                403620 non-null float64\n",
      "n_paragraphs                  403620 non-null float64\n",
      "n_chars                       403620 non-null float64\n",
      "n_words                       403620 non-null float64\n",
      "avg_word_length               403620 non-null float64\n",
      "n_lines                       403620 non-null float64\n",
      "n_spaces                      403620 non-null float64\n",
      "n_tabs                        403620 non-null float64\n",
      "n_braces                      403620 non-null float64\n",
      "n_brackets                    403620 non-null float64\n",
      "n_dashes                      403620 non-null float64\n",
      "n_dots                        403620 non-null float64\n",
      "n_bangs                       403620 non-null float64\n",
      "n_eqs                         403620 non-null float64\n",
      "n_pluses                      403620 non-null float64\n",
      "n_x_pars                      403620 non-null float64\n",
      "n_links_rel_prop              366689 non-null float64\n",
      "n_links_abs_prop              366689 non-null float64\n",
      "n_links_domain_com_prop       366689 non-null float64\n",
      "n_links_domain_org_prop       366689 non-null float64\n",
      "n_links_scheme_none_prop      366689 non-null float64\n",
      "n_links_scheme_http_prop      366689 non-null float64\n",
      "n_links_scheme_https_prop     366689 non-null float64\n",
      "n_links_path_nonempty_prop    366689 non-null float64\n",
      "n_imgs_rel_prop               359980 non-null float64\n",
      "n_imgs_abs_prop               359980 non-null float64\n",
      "n_imgs_fmt_jpg_prop           359980 non-null float64\n",
      "n_imgs_fmt_gif_prop           359980 non-null float64\n",
      "n_imgs_fmt_png_prop           359980 non-null float64\n",
      "dtypes: float64(82)\n",
      "memory usage: 255.7+ MB\n"
     ]
    }
   ],
   "source": [
    "w.info()"
   ]
  },
  {
   "cell_type": "code",
   "execution_count": null,
   "metadata": {
    "collapsed": true
   },
   "outputs": [],
   "source": [
    "tr = w[pd.notnull(w.sponsored)]\n",
    "tr = tr.fillna(0)\n",
    "#tr.info()"
   ]
  },
  {
   "cell_type": "code",
   "execution_count": null,
   "metadata": {
    "collapsed": true
   },
   "outputs": [],
   "source": [
    "trl = tr.sponsored\n",
    "del tr['sponsored']"
   ]
  },
  {
   "cell_type": "code",
   "execution_count": null,
   "metadata": {
    "collapsed": true
   },
   "outputs": [],
   "source": [
    "te = w[pd.isnull(w.sponsored)]\n",
    "del te['sponsored']\n",
    "te = te.fillna(0)\n",
    "#te.info()"
   ]
  },
  {
   "cell_type": "code",
   "execution_count": null,
   "metadata": {
    "collapsed": true
   },
   "outputs": [],
   "source": [
    "m = RandomForestClassifier(n_estimators=10, n_jobs=-1)\n",
    "#m = KNeighborsClassifier(n_neighbors=5)\n",
    "#m = SVC(probability=True)"
   ]
  },
  {
   "cell_type": "code",
   "execution_count": null,
   "metadata": {
    "collapsed": false
   },
   "outputs": [],
   "source": [
    "scores = cross_validation.cross_val_score(m, tr, trl, cv=3, scoring='roc_auc')"
   ]
  },
  {
   "cell_type": "code",
   "execution_count": null,
   "metadata": {
    "collapsed": false
   },
   "outputs": [],
   "source": [
    "# RandomForestClassifier(n_estimators=500, max_depth=30, oob_score=True, n_jobs=-1):\n",
    "#     array([ 0.90357458,  0.90298073,  0.90189454])\n",
    "# KNeighborsClassifier(n_neighbors=5):\n",
    "#     array([ 0.67784316,  0.68113898,  0.6737584 ])\n",
    "scores"
   ]
  },
  {
   "cell_type": "code",
   "execution_count": null,
   "metadata": {
    "collapsed": true
   },
   "outputs": [],
   "source": [
    "#m.fit(tr, trl)"
   ]
  },
  {
   "cell_type": "code",
   "execution_count": null,
   "metadata": {
    "collapsed": true
   },
   "outputs": [],
   "source": [
    "# preds = DataFrame(m.predict_proba(te))[1]\n",
    "# sub = DataFrame({'file': te.index, 'sponsored': preds})\n",
    "# sub.info()"
   ]
  },
  {
   "cell_type": "code",
   "execution_count": null,
   "metadata": {
    "collapsed": true
   },
   "outputs": [],
   "source": [
    "# sub.to_csv('output/prec_rec_count_randfor_02.csv', index=False)"
   ]
  }
 ],
 "metadata": {
  "kernelspec": {
   "display_name": "Python 2",
   "language": "python",
   "name": "python2"
  },
  "language_info": {
   "codemirror_mode": {
    "name": "ipython",
    "version": 2
   },
   "file_extension": ".py",
   "mimetype": "text/x-python",
   "name": "python",
   "nbconvert_exporter": "python",
   "pygments_lexer": "ipython2",
   "version": "2.7.10"
  }
 },
 "nbformat": 4,
 "nbformat_minor": 0
}
