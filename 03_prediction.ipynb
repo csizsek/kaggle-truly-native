{
 "cells": [
  {
   "cell_type": "code",
   "execution_count": 1,
   "metadata": {
    "collapsed": false
   },
   "outputs": [
    {
     "name": "stdout",
     "output_type": "stream",
     "text": [
      "Populating the interactive namespace from numpy and matplotlib\n"
     ]
    }
   ],
   "source": [
    "import numpy as np\n",
    "import pandas as pd\n",
    "from pandas import DataFrame, Series\n",
    "from matplotlib import pyplot as plt\n",
    "from sklearn.ensemble import RandomForestClassifier\n",
    "from sklearn.neighbors import KNeighborsClassifier\n",
    "from sklearn.svm import SVC\n",
    "from sklearn import cross_validation\n",
    "import xgboost as xgb\n",
    "%pylab inline"
   ]
  },
  {
   "cell_type": "code",
   "execution_count": 2,
   "metadata": {
    "collapsed": false
   },
   "outputs": [],
   "source": [
    "w = pd.read_csv('tmp/engineered_features.csv', index_col='file')"
   ]
  },
  {
   "cell_type": "code",
   "execution_count": 3,
   "metadata": {
    "collapsed": false
   },
   "outputs": [
    {
     "name": "stdout",
     "output_type": "stream",
     "text": [
      "<class 'pandas.core.frame.DataFrame'>\n",
      "Index: 403796 entries, 3093804_raw_html.txt to 4059503_raw_html.txt\n",
      "Columns: 388 entries, sponsored to 276\n",
      "dtypes: float64(388)\n",
      "memory usage: 1.2+ GB\n"
     ]
    }
   ],
   "source": [
    "w.info()"
   ]
  },
  {
   "cell_type": "code",
   "execution_count": 4,
   "metadata": {
    "collapsed": false
   },
   "outputs": [
    {
     "name": "stdout",
     "output_type": "stream",
     "text": [
      "<class 'pandas.core.frame.DataFrame'>\n",
      "Index: 337024 entries, 3093804_raw_html.txt to 3198940_raw_html.txt\n",
      "Columns: 388 entries, sponsored to 276\n",
      "dtypes: float64(388)\n",
      "memory usage: 1000.2+ MB\n"
     ]
    }
   ],
   "source": [
    "tr = w[pd.notnull(w.sponsored)]\n",
    "tr = tr.fillna(0)\n",
    "tr.info()\n",
    "#tr[:5].T"
   ]
  },
  {
   "cell_type": "code",
   "execution_count": 5,
   "metadata": {
    "collapsed": false
   },
   "outputs": [],
   "source": [
    "trl = tr.sponsored\n",
    "del tr['sponsored']\n",
    "#trl[:5]"
   ]
  },
  {
   "cell_type": "code",
   "execution_count": 6,
   "metadata": {
    "collapsed": false
   },
   "outputs": [],
   "source": [
    "te = w[pd.isnull(w.sponsored)]\n",
    "del te['sponsored']\n",
    "te = te.fillna(0)\n",
    "#te.info()\n",
    "#te[:5].T"
   ]
  },
  {
   "cell_type": "code",
   "execution_count": 7,
   "metadata": {
    "collapsed": true
   },
   "outputs": [],
   "source": [
    "#m = RandomForestClassifier(n_estimators=10, n_jobs=-1)\n",
    "#m = KNeighborsClassifier(n_neighbors=5)\n",
    "#m = SVC(probability=True)"
   ]
  },
  {
   "cell_type": "code",
   "execution_count": 8,
   "metadata": {
    "collapsed": false
   },
   "outputs": [],
   "source": [
    "m = xgb.XGBClassifier(max_depth=25, n_estimators=600, learning_rate=0.04, gamma=0.07, min_child_weight=3)"
   ]
  },
  {
   "cell_type": "code",
   "execution_count": 9,
   "metadata": {
    "collapsed": false
   },
   "outputs": [],
   "source": [
    "#scores = cross_validation.cross_val_score(m, tr, trl, cv=3, scoring='roc_auc')"
   ]
  },
  {
   "cell_type": "code",
   "execution_count": 10,
   "metadata": {
    "collapsed": false
   },
   "outputs": [],
   "source": [
    "# RandomForestClassifier(n_estimators=500, max_depth=30, oob_score=True, n_jobs=-1):\n",
    "#     array([ 0.90357458,  0.90298073,  0.90189454])\n",
    "# KNeighborsClassifier(n_neighbors=5):\n",
    "#     array([ 0.67784316,  0.68113898,  0.6737584 ])\n",
    "#scores"
   ]
  },
  {
   "cell_type": "code",
   "execution_count": 11,
   "metadata": {
    "collapsed": false
   },
   "outputs": [
    {
     "data": {
      "text/plain": [
       "XGBClassifier(base_score=0.5, colsample_bytree=1, gamma=0.07,\n",
       "       learning_rate=0.04, max_delta_step=0, max_depth=25,\n",
       "       min_child_weight=3, missing=None, n_estimators=600, nthread=-1,\n",
       "       objective='binary:logistic', seed=0, silent=True, subsample=1)"
      ]
     },
     "execution_count": 11,
     "metadata": {},
     "output_type": "execute_result"
    }
   ],
   "source": [
    "m.fit(tr, trl)"
   ]
  },
  {
   "cell_type": "code",
   "execution_count": 12,
   "metadata": {
    "collapsed": false
   },
   "outputs": [
    {
     "name": "stdout",
     "output_type": "stream",
     "text": [
      "<class 'pandas.core.frame.DataFrame'>\n",
      "Int64Index: 66772 entries, 0 to 66771\n",
      "Data columns (total 2 columns):\n",
      "file         66772 non-null object\n",
      "sponsored    66772 non-null float32\n",
      "dtypes: float32(1), object(1)\n",
      "memory usage: 1.3+ MB\n"
     ]
    }
   ],
   "source": [
    "preds = DataFrame(m.predict_proba(te))[1]\n",
    "sub = DataFrame({'file': te.index, 'sponsored': preds})\n",
    "sub.info()"
   ]
  },
  {
   "cell_type": "code",
   "execution_count": 13,
   "metadata": {
    "collapsed": true
   },
   "outputs": [],
   "source": [
    "sub.to_csv('output/prec_rec_count_okapi_xgboost_param_opt_01.csv', index=False)"
   ]
  }
 ],
 "metadata": {
  "kernelspec": {
   "display_name": "Python 2",
   "language": "python",
   "name": "python2"
  },
  "language_info": {
   "codemirror_mode": {
    "name": "ipython",
    "version": 2
   },
   "file_extension": ".py",
   "mimetype": "text/x-python",
   "name": "python",
   "nbconvert_exporter": "python",
   "pygments_lexer": "ipython2",
   "version": "2.7.10"
  }
 },
 "nbformat": 4,
 "nbformat_minor": 0
}
