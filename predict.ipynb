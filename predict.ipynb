{
 "cells": [
  {
   "cell_type": "code",
   "execution_count": 53,
   "metadata": {
    "collapsed": false
   },
   "outputs": [
    {
     "name": "stdout",
     "output_type": "stream",
     "text": [
      "Populating the interactive namespace from numpy and matplotlib\n"
     ]
    }
   ],
   "source": [
    "import numpy as np\n",
    "import pandas as pd\n",
    "from pandas import DataFrame, Series\n",
    "from matplotlib import pyplot as plt\n",
    "from sklearn.ensemble import RandomForestClassifier\n",
    "from sklearn.neighbors import KNeighborsClassifier\n",
    "from sklearn.svm import SVC\n",
    "from sklearn import cross_validation\n",
    "%pylab inline"
   ]
  },
  {
   "cell_type": "code",
   "execution_count": 54,
   "metadata": {
    "collapsed": false
   },
   "outputs": [],
   "source": [
    "tr = pd.read_csv('input/train_v2.csv')\n",
    "#tr.info()"
   ]
  },
  {
   "cell_type": "code",
   "execution_count": 55,
   "metadata": {
    "collapsed": false
   },
   "outputs": [],
   "source": [
    "te = pd.read_csv('input/sampleSubmission_v2.csv')\n",
    "#te.info()"
   ]
  },
  {
   "cell_type": "code",
   "execution_count": 56,
   "metadata": {
    "collapsed": false
   },
   "outputs": [],
   "source": [
    "#te[:5]"
   ]
  },
  {
   "cell_type": "code",
   "execution_count": 57,
   "metadata": {
    "collapsed": false
   },
   "outputs": [],
   "source": [
    "te.sponsored = np.nan"
   ]
  },
  {
   "cell_type": "code",
   "execution_count": 58,
   "metadata": {
    "collapsed": false
   },
   "outputs": [],
   "source": [
    "#te.info()"
   ]
  },
  {
   "cell_type": "code",
   "execution_count": 59,
   "metadata": {
    "collapsed": false
   },
   "outputs": [],
   "source": [
    "t = pd.concat([tr, te])\n",
    "#t.info()"
   ]
  },
  {
   "cell_type": "code",
   "execution_count": 60,
   "metadata": {
    "collapsed": false
   },
   "outputs": [],
   "source": [
    "pr1 = pd.read_csv('tmp/prec_rec_1.csv')\n",
    "#pr1.info()"
   ]
  },
  {
   "cell_type": "code",
   "execution_count": 61,
   "metadata": {
    "collapsed": false
   },
   "outputs": [],
   "source": [
    "#pr1.describe().T"
   ]
  },
  {
   "cell_type": "code",
   "execution_count": 62,
   "metadata": {
    "collapsed": false
   },
   "outputs": [],
   "source": [
    "x = pd.merge(t, pr1, on='file', how='left', suffixes=('','_1'))\n",
    "#x.info()"
   ]
  },
  {
   "cell_type": "code",
   "execution_count": 63,
   "metadata": {
    "collapsed": false
   },
   "outputs": [],
   "source": [
    "pr2 = pd.read_csv('tmp/prec_rec_2.csv')\n",
    "#pr2.info()"
   ]
  },
  {
   "cell_type": "code",
   "execution_count": 64,
   "metadata": {
    "collapsed": false
   },
   "outputs": [],
   "source": [
    "#pr2.describe().T"
   ]
  },
  {
   "cell_type": "code",
   "execution_count": 65,
   "metadata": {
    "collapsed": false
   },
   "outputs": [],
   "source": [
    "y = pd.merge(x, pr2, on='file', how='left', suffixes=('','_2'))\n",
    "#y.info()"
   ]
  },
  {
   "cell_type": "code",
   "execution_count": 66,
   "metadata": {
    "collapsed": false
   },
   "outputs": [],
   "source": [
    "pr3 = pd.read_csv('tmp/prec_rec_3.csv')\n",
    "#pr3.info()"
   ]
  },
  {
   "cell_type": "code",
   "execution_count": 67,
   "metadata": {
    "collapsed": false
   },
   "outputs": [],
   "source": [
    "#pr3.describe().T"
   ]
  },
  {
   "cell_type": "code",
   "execution_count": 68,
   "metadata": {
    "collapsed": false
   },
   "outputs": [],
   "source": [
    "z = pd.merge(y, pr3, on='file', how='left', suffixes=('','_3'))\n",
    "#z.info()"
   ]
  },
  {
   "cell_type": "code",
   "execution_count": 69,
   "metadata": {
    "collapsed": false
   },
   "outputs": [],
   "source": [
    "c = pd.read_csv('tmp/count_features.csv')\n",
    "#c.info()"
   ]
  },
  {
   "cell_type": "code",
   "execution_count": 70,
   "metadata": {
    "collapsed": false
   },
   "outputs": [],
   "source": [
    "#c.describe().T"
   ]
  },
  {
   "cell_type": "code",
   "execution_count": 71,
   "metadata": {
    "collapsed": false
   },
   "outputs": [],
   "source": [
    "w = pd.merge(z, c, on='file', how='left')\n",
    "#w.info()"
   ]
  },
  {
   "cell_type": "code",
   "execution_count": 72,
   "metadata": {
    "collapsed": true
   },
   "outputs": [],
   "source": [
    "w.index = w.file\n",
    "del w['file']"
   ]
  },
  {
   "cell_type": "code",
   "execution_count": 73,
   "metadata": {
    "collapsed": false
   },
   "outputs": [],
   "source": [
    "for c in filter(lambda c: c.startswith('n_links_'), w.columns.tolist()):\n",
    "    w[c + '_prop'] = 1.0 * w[c] / w.n_links\n",
    "for c in filter(lambda c: c.startswith('n_imgs_'), w.columns.tolist()):\n",
    "    w[c + '_prop'] = 1.0 * w[c] / w.n_imgs"
   ]
  },
  {
   "cell_type": "code",
   "execution_count": 84,
   "metadata": {
    "collapsed": false
   },
   "outputs": [
    {
     "name": "stdout",
     "output_type": "stream",
     "text": [
      "0 sponsored\n",
      "1 p100\n",
      "2 r100\n",
      "3 p300\n",
      "4 r300\n",
      "5 p1000\n",
      "6 r1000\n",
      "7 p3000\n",
      "8 r3000\n",
      "9 p10000\n",
      "10 r10000\n",
      "11 p30000\n",
      "12 r30000\n",
      "13 p100_2\n",
      "14 r100_2\n",
      "15 p300_2\n",
      "16 r300_2\n",
      "17 p1000_2\n",
      "18 r1000_2\n",
      "19 p3000_2\n",
      "20 r3000_2\n",
      "21 p10000_2\n",
      "22 r10000_2\n",
      "23 p30000_2\n",
      "24 r30000_2\n",
      "25 p100_3\n",
      "26 r100_3\n",
      "27 p300_3\n",
      "28 r300_3\n",
      "29 p1000_3\n",
      "30 r1000_3\n",
      "31 p3000_3\n",
      "32 r3000_3\n",
      "33 p10000_3\n",
      "34 r10000_3\n",
      "35 p30000_3\n",
      "36 r30000_3\n",
      "37 n_title_chars\n",
      "38 n_title_words\n",
      "39 n_links\n",
      "40 n_links_rel\n",
      "41 n_links_abs\n",
      "42 n_links_domain_com\n",
      "43 n_links_domain_org\n",
      "44 n_links_scheme_none\n",
      "45 n_links_scheme_http\n",
      "46 n_links_scheme_https\n",
      "47 n_links_path_nonempty\n",
      "48 n_imgs\n",
      "49 n_imgs_rel\n",
      "50 n_imgs_abs\n",
      "51 n_imgs_fmt_jpg\n",
      "52 n_imgs_fmt_gif\n",
      "53 n_imgs_fmt_png\n",
      "54 n_paragraphs\n",
      "55 n_chars\n",
      "56 n_words\n",
      "57 avg_word_length\n",
      "58 n_lines\n",
      "59 n_spaces\n",
      "60 n_tabs\n",
      "61 n_braces\n",
      "62 n_brackets\n",
      "63 n_dashes\n",
      "64 n_dots\n",
      "65 n_bangs\n",
      "66 n_eqs\n",
      "67 n_pluses\n",
      "68 n_x_pars\n",
      "69 n_links_rel_prop\n",
      "70 n_links_abs_prop\n",
      "71 n_links_domain_com_prop\n",
      "72 n_links_domain_org_prop\n",
      "73 n_links_scheme_none_prop\n",
      "74 n_links_scheme_http_prop\n",
      "75 n_links_scheme_https_prop\n",
      "76 n_links_path_nonempty_prop\n",
      "77 n_imgs_rel_prop\n",
      "78 n_imgs_abs_prop\n",
      "79 n_imgs_fmt_jpg_prop\n",
      "80 n_imgs_fmt_gif_prop\n",
      "81 n_imgs_fmt_png_prop\n"
     ]
    }
   ],
   "source": [
    "for i in range(len(w.columns)):\n",
    "    print i, w.columns[i]"
   ]
  },
  {
   "cell_type": "code",
   "execution_count": 74,
   "metadata": {
    "collapsed": false
   },
   "outputs": [],
   "source": [
    "#w.describe().T"
   ]
  },
  {
   "cell_type": "code",
   "execution_count": 75,
   "metadata": {
    "collapsed": false
   },
   "outputs": [],
   "source": [
    "tr = w[pd.notnull(w.sponsored)]\n",
    "tr = tr.fillna(0)\n",
    "#tr.info()"
   ]
  },
  {
   "cell_type": "code",
   "execution_count": 76,
   "metadata": {
    "collapsed": true
   },
   "outputs": [],
   "source": [
    "trl = tr.sponsored\n",
    "del tr['sponsored']"
   ]
  },
  {
   "cell_type": "code",
   "execution_count": 77,
   "metadata": {
    "collapsed": false
   },
   "outputs": [],
   "source": [
    "te = w[pd.isnull(w.sponsored)]\n",
    "del te['sponsored']\n",
    "te = te.fillna(0)\n",
    "#te.info()"
   ]
  },
  {
   "cell_type": "code",
   "execution_count": 78,
   "metadata": {
    "collapsed": false
   },
   "outputs": [],
   "source": [
    "m = RandomForestClassifier(n_estimators=500, n_jobs=-1)\n",
    "#m = KNeighborsClassifier(n_neighbors=5)\n",
    "#m = SVC(probability=True)"
   ]
  },
  {
   "cell_type": "code",
   "execution_count": 79,
   "metadata": {
    "collapsed": false
   },
   "outputs": [],
   "source": [
    "scores = cross_validation.cross_val_score(m, tr, trl, cv=3, scoring='roc_auc')"
   ]
  },
  {
   "cell_type": "code",
   "execution_count": 80,
   "metadata": {
    "collapsed": false
   },
   "outputs": [
    {
     "data": {
      "text/plain": [
       "array([ 0.91198505,  0.9123692 ,  0.9111538 ])"
      ]
     },
     "execution_count": 80,
     "metadata": {},
     "output_type": "execute_result"
    }
   ],
   "source": [
    "# RandomForestClassifier(n_estimators=500, max_depth=30, oob_score=True, n_jobs=-1):\n",
    "#     array([ 0.90357458,  0.90298073,  0.90189454])\n",
    "# KNeighborsClassifier(n_neighbors=5):\n",
    "#     array([ 0.67784316,  0.68113898,  0.6737584 ])\n",
    "scores"
   ]
  },
  {
   "cell_type": "code",
   "execution_count": 81,
   "metadata": {
    "collapsed": true
   },
   "outputs": [],
   "source": [
    "#m.fit(tr, trl)"
   ]
  },
  {
   "cell_type": "code",
   "execution_count": 82,
   "metadata": {
    "collapsed": false
   },
   "outputs": [],
   "source": [
    "# preds = DataFrame(m.predict_proba(te))[1]\n",
    "# sub = DataFrame({'file': te.index, 'sponsored': preds})\n",
    "# sub.info()"
   ]
  },
  {
   "cell_type": "code",
   "execution_count": 83,
   "metadata": {
    "collapsed": true
   },
   "outputs": [],
   "source": [
    "# sub.to_csv('output/prec_rec_count_randfor_02.csv', index=False)"
   ]
  }
 ],
 "metadata": {
  "kernelspec": {
   "display_name": "Python 2",
   "language": "python",
   "name": "python2"
  },
  "language_info": {
   "codemirror_mode": {
    "name": "ipython",
    "version": 2
   },
   "file_extension": ".py",
   "mimetype": "text/x-python",
   "name": "python",
   "nbconvert_exporter": "python",
   "pygments_lexer": "ipython2",
   "version": "2.7"
  }
 },
 "nbformat": 4,
 "nbformat_minor": 0
}
