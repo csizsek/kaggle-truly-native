{
 "cells": [
  {
   "cell_type": "code",
   "execution_count": 136,
   "metadata": {
    "collapsed": false
   },
   "outputs": [
    {
     "name": "stdout",
     "output_type": "stream",
     "text": [
      "Populating the interactive namespace from numpy and matplotlib\n"
     ]
    },
    {
     "name": "stderr",
     "output_type": "stream",
     "text": [
      "WARNING: pylab import has clobbered these variables: ['clf', 'test']\n",
      "`%matplotlib` prevents importing * from pylab and numpy\n"
     ]
    }
   ],
   "source": [
    "import numpy as np\n",
    "import pandas as pd\n",
    "from pandas import DataFrame, Series\n",
    "from matplotlib import pyplot as plt\n",
    "%pylab inline"
   ]
  },
  {
   "cell_type": "code",
   "execution_count": 137,
   "metadata": {
    "collapsed": false
   },
   "outputs": [
    {
     "name": "stdout",
     "output_type": "stream",
     "text": [
      "<class 'pandas.core.frame.DataFrame'>\n",
      "Int64Index: 403900 entries, 0 to 403899\n",
      "Data columns (total 10 columns):\n",
      "file                403900 non-null object\n",
      "title_chars         403900 non-null float64\n",
      "title_words         403900 non-null float64\n",
      "links               403900 non-null float64\n",
      "images              403900 non-null float64\n",
      "paragraphs          403900 non-null float64\n",
      "chars               403900 non-null float64\n",
      "words               403900 non-null float64\n",
      "links_per_words     403900 non-null float64\n",
      "images_per_words    403900 non-null float64\n",
      "dtypes: float64(9), object(1)\n",
      "memory usage: 33.9+ MB\n"
     ]
    }
   ],
   "source": [
    "features = pd.read_csv('tmp/features_clean.csv')\n",
    "features.info()"
   ]
  },
  {
   "cell_type": "code",
   "execution_count": 138,
   "metadata": {
    "collapsed": false
   },
   "outputs": [
    {
     "name": "stdout",
     "output_type": "stream",
     "text": [
      "<class 'pandas.core.frame.DataFrame'>\n",
      "Int64Index: 337024 entries, 0 to 337023\n",
      "Data columns (total 2 columns):\n",
      "file         337024 non-null object\n",
      "sponsored    337024 non-null int64\n",
      "dtypes: int64(1), object(1)\n",
      "memory usage: 7.7+ MB\n"
     ]
    }
   ],
   "source": [
    "train = pd.read_csv('input/train_v2.csv')\n",
    "train.info()"
   ]
  },
  {
   "cell_type": "code",
   "execution_count": 139,
   "metadata": {
    "collapsed": false
   },
   "outputs": [
    {
     "name": "stdout",
     "output_type": "stream",
     "text": [
      "<class 'pandas.core.frame.DataFrame'>\n",
      "Int64Index: 66772 entries, 0 to 66771\n",
      "Data columns (total 2 columns):\n",
      "file         66772 non-null object\n",
      "sponsored    66772 non-null int64\n",
      "dtypes: int64(1), object(1)\n",
      "memory usage: 1.5+ MB\n"
     ]
    }
   ],
   "source": [
    "test = pd.read_csv('input/sampleSubmission_v2.csv')\n",
    "test.info()"
   ]
  },
  {
   "cell_type": "code",
   "execution_count": 140,
   "metadata": {
    "collapsed": false
   },
   "outputs": [
    {
     "name": "stdout",
     "output_type": "stream",
     "text": [
      "<class 'pandas.core.frame.DataFrame'>\n",
      "Int64Index: 336920 entries, 0 to 336919\n",
      "Data columns (total 11 columns):\n",
      "file                336920 non-null object\n",
      "sponsored           336920 non-null int64\n",
      "title_chars         336920 non-null float64\n",
      "title_words         336920 non-null float64\n",
      "links               336920 non-null float64\n",
      "images              336920 non-null float64\n",
      "paragraphs          336920 non-null float64\n",
      "chars               336920 non-null float64\n",
      "words               336920 non-null float64\n",
      "links_per_words     336920 non-null float64\n",
      "images_per_words    336920 non-null float64\n",
      "dtypes: float64(9), int64(1), object(1)\n",
      "memory usage: 30.8+ MB\n"
     ]
    }
   ],
   "source": [
    "tr = pd.merge(train, features, on='file', how='inner')\n",
    "tr.info()"
   ]
  },
  {
   "cell_type": "code",
   "execution_count": 141,
   "metadata": {
    "collapsed": false
   },
   "outputs": [
    {
     "name": "stdout",
     "output_type": "stream",
     "text": [
      "<class 'pandas.core.frame.DataFrame'>\n",
      "Int64Index: 66772 entries, 0 to 66771\n",
      "Data columns (total 11 columns):\n",
      "file                66772 non-null object\n",
      "sponsored           66772 non-null int64\n",
      "title_chars         66772 non-null float64\n",
      "title_words         66772 non-null float64\n",
      "links               66772 non-null float64\n",
      "images              66772 non-null float64\n",
      "paragraphs          66772 non-null float64\n",
      "chars               66772 non-null float64\n",
      "words               66772 non-null float64\n",
      "links_per_words     66772 non-null float64\n",
      "images_per_words    66772 non-null float64\n",
      "dtypes: float64(9), int64(1), object(1)\n",
      "memory usage: 6.1+ MB\n"
     ]
    }
   ],
   "source": [
    "te = pd.merge(test, features, on='file', how='left')\n",
    "te = te.fillna(0)\n",
    "te.info()"
   ]
  },
  {
   "cell_type": "code",
   "execution_count": 142,
   "metadata": {
    "collapsed": false
   },
   "outputs": [
    {
     "data": {
      "text/plain": [
       "0    0\n",
       "1    0\n",
       "2    0\n",
       "3    0\n",
       "4    0\n",
       "Name: sponsored, dtype: int64"
      ]
     },
     "execution_count": 142,
     "metadata": {},
     "output_type": "execute_result"
    }
   ],
   "source": [
    "trl = tr.sponsored\n",
    "trl[:5]"
   ]
  },
  {
   "cell_type": "code",
   "execution_count": 143,
   "metadata": {
    "collapsed": false
   },
   "outputs": [],
   "source": [
    "del tr['sponsored']\n",
    "del te['sponsored']\n",
    "tr.index = tr.file\n",
    "del tr['file']\n",
    "te.index = te.file\n",
    "del te['file']"
   ]
  },
  {
   "cell_type": "code",
   "execution_count": 144,
   "metadata": {
    "collapsed": false
   },
   "outputs": [],
   "source": [
    "from sklearn.ensemble import RandomForestClassifier\n",
    "from sklearn.cross_validation import cross_val_score\n",
    "clf = RandomForestClassifier(n_estimators=100, max_depth=15, oob_score=True, n_jobs=4)"
   ]
  },
  {
   "cell_type": "code",
   "execution_count": 145,
   "metadata": {
    "collapsed": false
   },
   "outputs": [
    {
     "data": {
      "text/plain": [
       "RandomForestClassifier(bootstrap=True, class_weight=None, criterion='gini',\n",
       "            max_depth=15, max_features='auto', max_leaf_nodes=None,\n",
       "            min_samples_leaf=1, min_samples_split=2,\n",
       "            min_weight_fraction_leaf=0.0, n_estimators=100, n_jobs=4,\n",
       "            oob_score=True, random_state=None, verbose=0, warm_start=False)"
      ]
     },
     "execution_count": 145,
     "metadata": {},
     "output_type": "execute_result"
    }
   ],
   "source": [
    "clf.fit(tr, trl)"
   ]
  },
  {
   "cell_type": "code",
   "execution_count": 146,
   "metadata": {
    "collapsed": false
   },
   "outputs": [],
   "source": [
    "preds = clf.predict_proba(te)"
   ]
  },
  {
   "cell_type": "code",
   "execution_count": 147,
   "metadata": {
    "collapsed": false
   },
   "outputs": [
    {
     "data": {
      "text/html": [
       "<div>\n",
       "<table border=\"1\" class=\"dataframe\">\n",
       "  <thead>\n",
       "    <tr style=\"text-align: right;\">\n",
       "      <th></th>\n",
       "      <th>0</th>\n",
       "      <th>1</th>\n",
       "    </tr>\n",
       "  </thead>\n",
       "  <tbody>\n",
       "    <tr>\n",
       "      <th>count</th>\n",
       "      <td>66772.000000</td>\n",
       "      <td>66772.000000</td>\n",
       "    </tr>\n",
       "    <tr>\n",
       "      <th>mean</th>\n",
       "      <td>0.902802</td>\n",
       "      <td>0.097198</td>\n",
       "    </tr>\n",
       "    <tr>\n",
       "      <th>std</th>\n",
       "      <td>0.073309</td>\n",
       "      <td>0.073309</td>\n",
       "    </tr>\n",
       "    <tr>\n",
       "      <th>min</th>\n",
       "      <td>0.000000</td>\n",
       "      <td>0.000000</td>\n",
       "    </tr>\n",
       "    <tr>\n",
       "      <th>25%</th>\n",
       "      <td>0.871940</td>\n",
       "      <td>0.051970</td>\n",
       "    </tr>\n",
       "    <tr>\n",
       "      <th>50%</th>\n",
       "      <td>0.911105</td>\n",
       "      <td>0.088895</td>\n",
       "    </tr>\n",
       "    <tr>\n",
       "      <th>75%</th>\n",
       "      <td>0.948030</td>\n",
       "      <td>0.128060</td>\n",
       "    </tr>\n",
       "    <tr>\n",
       "      <th>max</th>\n",
       "      <td>1.000000</td>\n",
       "      <td>1.000000</td>\n",
       "    </tr>\n",
       "  </tbody>\n",
       "</table>\n",
       "</div>"
      ],
      "text/plain": [
       "                  0             1\n",
       "count  66772.000000  66772.000000\n",
       "mean       0.902802      0.097198\n",
       "std        0.073309      0.073309\n",
       "min        0.000000      0.000000\n",
       "25%        0.871940      0.051970\n",
       "50%        0.911105      0.088895\n",
       "75%        0.948030      0.128060\n",
       "max        1.000000      1.000000"
      ]
     },
     "execution_count": 147,
     "metadata": {},
     "output_type": "execute_result"
    }
   ],
   "source": [
    "preds = DataFrame(preds)\n",
    "preds.describe()"
   ]
  },
  {
   "cell_type": "code",
   "execution_count": 148,
   "metadata": {
    "collapsed": false
   },
   "outputs": [
    {
     "name": "stdout",
     "output_type": "stream",
     "text": [
      "<class 'pandas.core.frame.DataFrame'>\n",
      "Index: 66772 entries, 119_raw_html.txt to 4059503_raw_html.txt\n",
      "Data columns (total 9 columns):\n",
      "title_chars         66772 non-null float64\n",
      "title_words         66772 non-null float64\n",
      "links               66772 non-null float64\n",
      "images              66772 non-null float64\n",
      "paragraphs          66772 non-null float64\n",
      "chars               66772 non-null float64\n",
      "words               66772 non-null float64\n",
      "links_per_words     66772 non-null float64\n",
      "images_per_words    66772 non-null float64\n",
      "dtypes: float64(9)\n",
      "memory usage: 5.1+ MB\n"
     ]
    }
   ],
   "source": [
    "te.info()"
   ]
  },
  {
   "cell_type": "code",
   "execution_count": 149,
   "metadata": {
    "collapsed": false
   },
   "outputs": [
    {
     "name": "stdout",
     "output_type": "stream",
     "text": [
      "<class 'pandas.core.frame.DataFrame'>\n",
      "Int64Index: 66772 entries, 0 to 66771\n",
      "Data columns (total 2 columns):\n",
      "0    66772 non-null float64\n",
      "1    66772 non-null float64\n",
      "dtypes: float64(2)\n",
      "memory usage: 1.5 MB\n"
     ]
    }
   ],
   "source": [
    "preds.info()"
   ]
  },
  {
   "cell_type": "code",
   "execution_count": 150,
   "metadata": {
    "collapsed": false
   },
   "outputs": [
    {
     "data": {
      "text/html": [
       "<div>\n",
       "<table border=\"1\" class=\"dataframe\">\n",
       "  <thead>\n",
       "    <tr style=\"text-align: right;\">\n",
       "      <th></th>\n",
       "      <th>file</th>\n",
       "      <th>sponsored</th>\n",
       "    </tr>\n",
       "  </thead>\n",
       "  <tbody>\n",
       "    <tr>\n",
       "      <th>0</th>\n",
       "      <td>119_raw_html.txt</td>\n",
       "      <td>0.043125</td>\n",
       "    </tr>\n",
       "    <tr>\n",
       "      <th>1</th>\n",
       "      <td>167_raw_html.txt</td>\n",
       "      <td>0.172022</td>\n",
       "    </tr>\n",
       "    <tr>\n",
       "      <th>2</th>\n",
       "      <td>329_raw_html.txt</td>\n",
       "      <td>0.231335</td>\n",
       "    </tr>\n",
       "    <tr>\n",
       "      <th>3</th>\n",
       "      <td>419_raw_html.txt</td>\n",
       "      <td>0.099196</td>\n",
       "    </tr>\n",
       "    <tr>\n",
       "      <th>4</th>\n",
       "      <td>431_raw_html.txt</td>\n",
       "      <td>0.171255</td>\n",
       "    </tr>\n",
       "  </tbody>\n",
       "</table>\n",
       "</div>"
      ],
      "text/plain": [
       "               file  sponsored\n",
       "0  119_raw_html.txt   0.043125\n",
       "1  167_raw_html.txt   0.172022\n",
       "2  329_raw_html.txt   0.231335\n",
       "3  419_raw_html.txt   0.099196\n",
       "4  431_raw_html.txt   0.171255"
      ]
     },
     "execution_count": 150,
     "metadata": {},
     "output_type": "execute_result"
    }
   ],
   "source": [
    "sub = DataFrame({'file': te.index, 'sponsored': preds[1]})\n",
    "sub[:5]"
   ]
  },
  {
   "cell_type": "code",
   "execution_count": 151,
   "metadata": {
    "collapsed": false
   },
   "outputs": [],
   "source": [
    "sub.to_csv('output/sub_02.csv', index=False)"
   ]
  }
 ],
 "metadata": {
  "kernelspec": {
   "display_name": "Python 2",
   "language": "python",
   "name": "python2"
  },
  "language_info": {
   "codemirror_mode": {
    "name": "ipython",
    "version": 2
   },
   "file_extension": ".py",
   "mimetype": "text/x-python",
   "name": "python",
   "nbconvert_exporter": "python",
   "pygments_lexer": "ipython2",
   "version": "2.7.10"
  }
 },
 "nbformat": 4,
 "nbformat_minor": 0
}
