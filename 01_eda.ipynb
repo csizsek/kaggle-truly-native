{
 "cells": [
  {
   "cell_type": "code",
   "execution_count": 80,
   "metadata": {
    "collapsed": false
   },
   "outputs": [
    {
     "name": "stdout",
     "output_type": "stream",
     "text": [
      "Populating the interactive namespace from numpy and matplotlib\n"
     ]
    },
    {
     "name": "stderr",
     "output_type": "stream",
     "text": [
      "WARNING: pylab import has clobbered these variables: ['test']\n",
      "`%matplotlib` prevents importing * from pylab and numpy\n"
     ]
    }
   ],
   "source": [
    "import numpy as np\n",
    "import pandas as pd\n",
    "from pandas import DataFrame, Series\n",
    "from matplotlib import pyplot as plt\n",
    "%pylab inline"
   ]
  },
  {
   "cell_type": "code",
   "execution_count": 81,
   "metadata": {
    "collapsed": false
   },
   "outputs": [
    {
     "name": "stdout",
     "output_type": "stream",
     "text": [
      "<class 'pandas.core.frame.DataFrame'>\n",
      "Int64Index: 403900 entries, 0 to 403899\n",
      "Data columns (total 10 columns):\n",
      "file                403900 non-null object\n",
      "title_chars         403900 non-null int64\n",
      "title_words         403900 non-null int64\n",
      "links               403900 non-null int64\n",
      "images              403900 non-null int64\n",
      "paragraphs          403900 non-null int64\n",
      "chars               403900 non-null int64\n",
      "words               403900 non-null int64\n",
      "links_per_words     403900 non-null float64\n",
      "images_per_words    403900 non-null float64\n",
      "dtypes: float64(2), int64(7), object(1)\n",
      "memory usage: 33.9+ MB\n"
     ]
    }
   ],
   "source": [
    "features = pd.read_csv('tmp/features.csv')\n",
    "features.info()"
   ]
  },
  {
   "cell_type": "code",
   "execution_count": 82,
   "metadata": {
    "collapsed": false
   },
   "outputs": [
    {
     "data": {
      "text/html": [
       "<div>\n",
       "<table border=\"1\" class=\"dataframe\">\n",
       "  <thead>\n",
       "    <tr style=\"text-align: right;\">\n",
       "      <th></th>\n",
       "      <th>file</th>\n",
       "      <th>title_chars</th>\n",
       "      <th>title_words</th>\n",
       "      <th>links</th>\n",
       "      <th>images</th>\n",
       "      <th>paragraphs</th>\n",
       "      <th>chars</th>\n",
       "      <th>words</th>\n",
       "      <th>links_per_words</th>\n",
       "      <th>images_per_words</th>\n",
       "    </tr>\n",
       "  </thead>\n",
       "  <tbody>\n",
       "    <tr>\n",
       "      <th>0</th>\n",
       "      <td>2580582_raw_html.txt</td>\n",
       "      <td>64</td>\n",
       "      <td>7</td>\n",
       "      <td>701</td>\n",
       "      <td>701</td>\n",
       "      <td>4677</td>\n",
       "      <td>9353</td>\n",
       "      <td>5430</td>\n",
       "      <td>0.129098</td>\n",
       "      <td>0.129098</td>\n",
       "    </tr>\n",
       "    <tr>\n",
       "      <th>1</th>\n",
       "      <td>3099576_raw_html.txt</td>\n",
       "      <td>92</td>\n",
       "      <td>15</td>\n",
       "      <td>108</td>\n",
       "      <td>108</td>\n",
       "      <td>904</td>\n",
       "      <td>1807</td>\n",
       "      <td>1037</td>\n",
       "      <td>0.104147</td>\n",
       "      <td>0.104147</td>\n",
       "    </tr>\n",
       "    <tr>\n",
       "      <th>2</th>\n",
       "      <td>2095794_raw_html.txt</td>\n",
       "      <td>125</td>\n",
       "      <td>19</td>\n",
       "      <td>186</td>\n",
       "      <td>186</td>\n",
       "      <td>4123</td>\n",
       "      <td>8245</td>\n",
       "      <td>4863</td>\n",
       "      <td>0.038248</td>\n",
       "      <td>0.038248</td>\n",
       "    </tr>\n",
       "  </tbody>\n",
       "</table>\n",
       "</div>"
      ],
      "text/plain": [
       "                   file  title_chars  title_words  links  images  paragraphs  \\\n",
       "0  2580582_raw_html.txt           64            7    701     701        4677   \n",
       "1  3099576_raw_html.txt           92           15    108     108         904   \n",
       "2  2095794_raw_html.txt          125           19    186     186        4123   \n",
       "\n",
       "   chars  words  links_per_words  images_per_words  \n",
       "0   9353   5430         0.129098          0.129098  \n",
       "1   1807   1037         0.104147          0.104147  \n",
       "2   8245   4863         0.038248          0.038248  "
      ]
     },
     "execution_count": 82,
     "metadata": {},
     "output_type": "execute_result"
    }
   ],
   "source": [
    "features[:3]"
   ]
  },
  {
   "cell_type": "code",
   "execution_count": 83,
   "metadata": {
    "collapsed": false
   },
   "outputs": [
    {
     "name": "stdout",
     "output_type": "stream",
     "text": [
      "<class 'pandas.core.frame.DataFrame'>\n",
      "Int64Index: 337024 entries, 0 to 337023\n",
      "Data columns (total 2 columns):\n",
      "file         337024 non-null object\n",
      "sponsored    337024 non-null int64\n",
      "dtypes: int64(1), object(1)\n",
      "memory usage: 7.7+ MB\n"
     ]
    }
   ],
   "source": [
    "train = pd.read_csv('input/train_v2.csv')\n",
    "train.info()"
   ]
  },
  {
   "cell_type": "code",
   "execution_count": 84,
   "metadata": {
    "collapsed": false
   },
   "outputs": [
    {
     "data": {
      "text/html": [
       "<div>\n",
       "<table border=\"1\" class=\"dataframe\">\n",
       "  <thead>\n",
       "    <tr style=\"text-align: right;\">\n",
       "      <th></th>\n",
       "      <th>file</th>\n",
       "      <th>sponsored</th>\n",
       "    </tr>\n",
       "  </thead>\n",
       "  <tbody>\n",
       "    <tr>\n",
       "      <th>0</th>\n",
       "      <td>3093804_raw_html.txt</td>\n",
       "      <td>0</td>\n",
       "    </tr>\n",
       "    <tr>\n",
       "      <th>1</th>\n",
       "      <td>845185_raw_html.txt</td>\n",
       "      <td>0</td>\n",
       "    </tr>\n",
       "    <tr>\n",
       "      <th>2</th>\n",
       "      <td>3370996_raw_html.txt</td>\n",
       "      <td>0</td>\n",
       "    </tr>\n",
       "  </tbody>\n",
       "</table>\n",
       "</div>"
      ],
      "text/plain": [
       "                   file  sponsored\n",
       "0  3093804_raw_html.txt          0\n",
       "1   845185_raw_html.txt          0\n",
       "2  3370996_raw_html.txt          0"
      ]
     },
     "execution_count": 84,
     "metadata": {},
     "output_type": "execute_result"
    }
   ],
   "source": [
    "train[:3]"
   ]
  },
  {
   "cell_type": "code",
   "execution_count": 85,
   "metadata": {
    "collapsed": false
   },
   "outputs": [
    {
     "data": {
      "text/plain": [
       "0    304345\n",
       "1     32679\n",
       "dtype: int64"
      ]
     },
     "execution_count": 85,
     "metadata": {},
     "output_type": "execute_result"
    }
   ],
   "source": [
    "train.sponsored.value_counts()"
   ]
  },
  {
   "cell_type": "code",
   "execution_count": 86,
   "metadata": {
    "collapsed": false
   },
   "outputs": [
    {
     "name": "stdout",
     "output_type": "stream",
     "text": [
      "<class 'pandas.core.frame.DataFrame'>\n",
      "Int64Index: 66772 entries, 0 to 66771\n",
      "Data columns (total 2 columns):\n",
      "file         66772 non-null object\n",
      "sponsored    66772 non-null int64\n",
      "dtypes: int64(1), object(1)\n",
      "memory usage: 1.5+ MB\n"
     ]
    }
   ],
   "source": [
    "test = pd.read_csv('input/sampleSubmission_v2.csv')\n",
    "test.info()"
   ]
  },
  {
   "cell_type": "code",
   "execution_count": 87,
   "metadata": {
    "collapsed": false
   },
   "outputs": [
    {
     "data": {
      "text/html": [
       "<div>\n",
       "<table border=\"1\" class=\"dataframe\">\n",
       "  <thead>\n",
       "    <tr style=\"text-align: right;\">\n",
       "      <th></th>\n",
       "      <th>file</th>\n",
       "      <th>sponsored</th>\n",
       "    </tr>\n",
       "  </thead>\n",
       "  <tbody>\n",
       "    <tr>\n",
       "      <th>0</th>\n",
       "      <td>119_raw_html.txt</td>\n",
       "      <td>0</td>\n",
       "    </tr>\n",
       "    <tr>\n",
       "      <th>1</th>\n",
       "      <td>167_raw_html.txt</td>\n",
       "      <td>0</td>\n",
       "    </tr>\n",
       "    <tr>\n",
       "      <th>2</th>\n",
       "      <td>329_raw_html.txt</td>\n",
       "      <td>0</td>\n",
       "    </tr>\n",
       "  </tbody>\n",
       "</table>\n",
       "</div>"
      ],
      "text/plain": [
       "               file  sponsored\n",
       "0  119_raw_html.txt          0\n",
       "1  167_raw_html.txt          0\n",
       "2  329_raw_html.txt          0"
      ]
     },
     "execution_count": 87,
     "metadata": {},
     "output_type": "execute_result"
    }
   ],
   "source": [
    "test[:3]"
   ]
  },
  {
   "cell_type": "code",
   "execution_count": 88,
   "metadata": {
    "collapsed": false
   },
   "outputs": [
    {
     "data": {
      "text/html": [
       "<div>\n",
       "<table border=\"1\" class=\"dataframe\">\n",
       "  <thead>\n",
       "    <tr style=\"text-align: right;\">\n",
       "      <th></th>\n",
       "      <th>title_chars</th>\n",
       "      <th>title_words</th>\n",
       "      <th>links</th>\n",
       "      <th>images</th>\n",
       "      <th>paragraphs</th>\n",
       "      <th>chars</th>\n",
       "      <th>words</th>\n",
       "      <th>links_per_words</th>\n",
       "      <th>images_per_words</th>\n",
       "    </tr>\n",
       "  </thead>\n",
       "  <tbody>\n",
       "    <tr>\n",
       "      <th>count</th>\n",
       "      <td>403900.000000</td>\n",
       "      <td>403900.000000</td>\n",
       "      <td>403900.000000</td>\n",
       "      <td>403900.000000</td>\n",
       "      <td>403900.000000</td>\n",
       "      <td>403900.000000</td>\n",
       "      <td>403900.000000</td>\n",
       "      <td>403900.000000</td>\n",
       "      <td>403900.000000</td>\n",
       "    </tr>\n",
       "    <tr>\n",
       "      <th>mean</th>\n",
       "      <td>1238.151235</td>\n",
       "      <td>599.099943</td>\n",
       "      <td>138.156368</td>\n",
       "      <td>138.156368</td>\n",
       "      <td>8150.122941</td>\n",
       "      <td>16299.368183</td>\n",
       "      <td>10888.288448</td>\n",
       "      <td>0.235640</td>\n",
       "      <td>0.235640</td>\n",
       "    </tr>\n",
       "    <tr>\n",
       "      <th>std</th>\n",
       "      <td>21144.288559</td>\n",
       "      <td>10536.847026</td>\n",
       "      <td>305.508596</td>\n",
       "      <td>305.508596</td>\n",
       "      <td>45538.265065</td>\n",
       "      <td>91076.508241</td>\n",
       "      <td>63126.787694</td>\n",
       "      <td>1.828691</td>\n",
       "      <td>1.828691</td>\n",
       "    </tr>\n",
       "    <tr>\n",
       "      <th>min</th>\n",
       "      <td>0.000000</td>\n",
       "      <td>1.000000</td>\n",
       "      <td>0.000000</td>\n",
       "      <td>0.000000</td>\n",
       "      <td>0.000000</td>\n",
       "      <td>0.000000</td>\n",
       "      <td>1.000000</td>\n",
       "      <td>0.000000</td>\n",
       "      <td>0.000000</td>\n",
       "    </tr>\n",
       "    <tr>\n",
       "      <th>25%</th>\n",
       "      <td>35.000000</td>\n",
       "      <td>6.000000</td>\n",
       "      <td>46.000000</td>\n",
       "      <td>46.000000</td>\n",
       "      <td>282.000000</td>\n",
       "      <td>563.000000</td>\n",
       "      <td>327.000000</td>\n",
       "      <td>0.009367</td>\n",
       "      <td>0.009367</td>\n",
       "    </tr>\n",
       "    <tr>\n",
       "      <th>50%</th>\n",
       "      <td>52.000000</td>\n",
       "      <td>9.000000</td>\n",
       "      <td>96.000000</td>\n",
       "      <td>96.000000</td>\n",
       "      <td>1726.000000</td>\n",
       "      <td>3451.000000</td>\n",
       "      <td>2015.000000</td>\n",
       "      <td>0.032551</td>\n",
       "      <td>0.032551</td>\n",
       "    </tr>\n",
       "    <tr>\n",
       "      <th>75%</th>\n",
       "      <td>68.000000</td>\n",
       "      <td>12.000000</td>\n",
       "      <td>166.000000</td>\n",
       "      <td>166.000000</td>\n",
       "      <td>4608.000000</td>\n",
       "      <td>9215.000000</td>\n",
       "      <td>5394.000000</td>\n",
       "      <td>0.098460</td>\n",
       "      <td>0.098460</td>\n",
       "    </tr>\n",
       "    <tr>\n",
       "      <th>max</th>\n",
       "      <td>5770810.000000</td>\n",
       "      <td>2883838.000000</td>\n",
       "      <td>113886.000000</td>\n",
       "      <td>113886.000000</td>\n",
       "      <td>8894739.000000</td>\n",
       "      <td>17789477.000000</td>\n",
       "      <td>10278377.000000</td>\n",
       "      <td>660.187500</td>\n",
       "      <td>660.187500</td>\n",
       "    </tr>\n",
       "  </tbody>\n",
       "</table>\n",
       "</div>"
      ],
      "text/plain": [
       "          title_chars     title_words          links         images  \\\n",
       "count   403900.000000   403900.000000  403900.000000  403900.000000   \n",
       "mean      1238.151235      599.099943     138.156368     138.156368   \n",
       "std      21144.288559    10536.847026     305.508596     305.508596   \n",
       "min          0.000000        1.000000       0.000000       0.000000   \n",
       "25%         35.000000        6.000000      46.000000      46.000000   \n",
       "50%         52.000000        9.000000      96.000000      96.000000   \n",
       "75%         68.000000       12.000000     166.000000     166.000000   \n",
       "max    5770810.000000  2883838.000000  113886.000000  113886.000000   \n",
       "\n",
       "           paragraphs            chars            words  links_per_words  \\\n",
       "count   403900.000000    403900.000000    403900.000000    403900.000000   \n",
       "mean      8150.122941     16299.368183     10888.288448         0.235640   \n",
       "std      45538.265065     91076.508241     63126.787694         1.828691   \n",
       "min          0.000000         0.000000         1.000000         0.000000   \n",
       "25%        282.000000       563.000000       327.000000         0.009367   \n",
       "50%       1726.000000      3451.000000      2015.000000         0.032551   \n",
       "75%       4608.000000      9215.000000      5394.000000         0.098460   \n",
       "max    8894739.000000  17789477.000000  10278377.000000       660.187500   \n",
       "\n",
       "       images_per_words  \n",
       "count     403900.000000  \n",
       "mean           0.235640  \n",
       "std            1.828691  \n",
       "min            0.000000  \n",
       "25%            0.009367  \n",
       "50%            0.032551  \n",
       "75%            0.098460  \n",
       "max          660.187500  "
      ]
     },
     "execution_count": 88,
     "metadata": {},
     "output_type": "execute_result"
    }
   ],
   "source": [
    "features.describe()"
   ]
  },
  {
   "cell_type": "code",
   "execution_count": 89,
   "metadata": {
    "collapsed": false
   },
   "outputs": [],
   "source": [
    "tc_q995 = features.title_chars.quantile(0.995)\n",
    "features.loc[features.title_chars > tc_q995, 'title_chars'] = tc_q995"
   ]
  },
  {
   "cell_type": "code",
   "execution_count": 90,
   "metadata": {
    "collapsed": false
   },
   "outputs": [
    {
     "data": {
      "image/png": "[encoded data removed]",
      "text/plain": [
       "<matplotlib.figure.Figure at 0x11abd3850>"
      ]
     },
     "metadata": {},
     "output_type": "display_data"
    }
   ],
   "source": [
    "_ = plt.hist(features.title_chars, bins = 50)"
   ]
  },
  {
   "cell_type": "code",
   "execution_count": 91,
   "metadata": {
    "collapsed": false
   },
   "outputs": [],
   "source": [
    "tw_q995 = features.title_words.quantile(0.995)\n",
    "features.loc[features.title_words > tw_q995, 'title_words'] = tw_q995"
   ]
  },
  {
   "cell_type": "code",
   "execution_count": 92,
   "metadata": {
    "collapsed": false
   },
   "outputs": [
    {
     "data": {
      "image/png": "[encoded data removed]",
      "text/plain": [
       "<matplotlib.figure.Figure at 0x10e9d3f50>"
      ]
     },
     "metadata": {},
     "output_type": "display_data"
    }
   ],
   "source": [
    "_ = plt.hist(features.title_words, bins = 50)"
   ]
  },
  {
   "cell_type": "code",
   "execution_count": 93,
   "metadata": {
    "collapsed": true
   },
   "outputs": [],
   "source": [
    "l_q995 = features.links.quantile(0.995)\n",
    "features.loc[features.links > l_q995, 'links'] = l_q995"
   ]
  },
  {
   "cell_type": "code",
   "execution_count": 94,
   "metadata": {
    "collapsed": false
   },
   "outputs": [
    {
     "data": {
      "image/png": "[encoded data removed]",
      "text/plain": [
       "<matplotlib.figure.Figure at 0x106b54750>"
      ]
     },
     "metadata": {},
     "output_type": "display_data"
    }
   ],
   "source": [
    "_ = plt.hist(features.links, bins = 50)"
   ]
  },
  {
   "cell_type": "code",
   "execution_count": 95,
   "metadata": {
    "collapsed": true
   },
   "outputs": [],
   "source": [
    "i_q995 = features.images.quantile(0.995)\n",
    "features.loc[features.images > i_q995, 'images'] = i_q995"
   ]
  },
  {
   "cell_type": "code",
   "execution_count": 96,
   "metadata": {
    "collapsed": false
   },
   "outputs": [
    {
     "data": {
      "image/png": "[encoded data removed]",
      "text/plain": [
       "<matplotlib.figure.Figure at 0x10dc3cd90>"
      ]
     },
     "metadata": {},
     "output_type": "display_data"
    }
   ],
   "source": [
    "_ = plt.hist(features.images, bins = 50)"
   ]
  },
  {
   "cell_type": "code",
   "execution_count": 97,
   "metadata": {
    "collapsed": true
   },
   "outputs": [],
   "source": [
    "p_q95 = features.paragraphs.quantile(0.95)\n",
    "features.loc[features.paragraphs > p_q95, 'paragraphs'] = p_q95"
   ]
  },
  {
   "cell_type": "code",
   "execution_count": 98,
   "metadata": {
    "collapsed": false
   },
   "outputs": [
    {
     "data": {
      "image/png": "[encoded data removed]",
      "text/plain": [
       "<matplotlib.figure.Figure at 0x1071d0210>"
      ]
     },
     "metadata": {},
     "output_type": "display_data"
    }
   ],
   "source": [
    "_ = plt.hist(features.paragraphs, bins = 50)"
   ]
  },
  {
   "cell_type": "code",
   "execution_count": 99,
   "metadata": {
    "collapsed": true
   },
   "outputs": [],
   "source": [
    "c_q95 = features.chars.quantile(0.95)\n",
    "features.loc[features.chars > c_q95, 'chars'] = c_q95"
   ]
  },
  {
   "cell_type": "code",
   "execution_count": 100,
   "metadata": {
    "collapsed": false
   },
   "outputs": [
    {
     "data": {
      "image/png": "[encoded data removed]",
      "text/plain": [
       "<matplotlib.figure.Figure at 0x10dc1dcd0>"
      ]
     },
     "metadata": {},
     "output_type": "display_data"
    }
   ],
   "source": [
    "_ = plt.hist(features.chars, bins = 50)"
   ]
  },
  {
   "cell_type": "code",
   "execution_count": 101,
   "metadata": {
    "collapsed": true
   },
   "outputs": [],
   "source": [
    "w_q95 = features.words.quantile(0.95)\n",
    "features.loc[features.words > w_q95, 'words'] = w_q95"
   ]
  },
  {
   "cell_type": "code",
   "execution_count": 102,
   "metadata": {
    "collapsed": false
   },
   "outputs": [
    {
     "data": {
      "image/png": "[encoded data removed]",
      "text/plain": [
       "<matplotlib.figure.Figure at 0x112fea450>"
      ]
     },
     "metadata": {},
     "output_type": "display_data"
    }
   ],
   "source": [
    "_ = plt.hist(features.words, bins = 50)"
   ]
  },
  {
   "cell_type": "code",
   "execution_count": 103,
   "metadata": {
    "collapsed": true
   },
   "outputs": [],
   "source": [
    "lpw_q95 = features.links_per_words.quantile(0.95)\n",
    "features.loc[features.links_per_words > lpw_q95, 'links_per_words'] = lpw_q95"
   ]
  },
  {
   "cell_type": "code",
   "execution_count": 104,
   "metadata": {
    "collapsed": false
   },
   "outputs": [
    {
     "data": {
      "image/png": "[encoded data removed]",
      "text/plain": [
       "<matplotlib.figure.Figure at 0x10dc7dfd0>"
      ]
     },
     "metadata": {},
     "output_type": "display_data"
    }
   ],
   "source": [
    "_ = plt.hist(features.links_per_words, bins = 50)"
   ]
  },
  {
   "cell_type": "code",
   "execution_count": 105,
   "metadata": {
    "collapsed": true
   },
   "outputs": [],
   "source": [
    "ipw_q95 = features.images_per_words.quantile(0.95)\n",
    "features.loc[features.images_per_words > ipw_q95, 'images_per_words'] = ipw_q95"
   ]
  },
  {
   "cell_type": "code",
   "execution_count": 106,
   "metadata": {
    "collapsed": false
   },
   "outputs": [
    {
     "data": {
      "image/png": "[encoded data removed]",
      "text/plain": [
       "<matplotlib.figure.Figure at 0x10e9c6690>"
      ]
     },
     "metadata": {},
     "output_type": "display_data"
    }
   ],
   "source": [
    "_ = plt.hist(features.images_per_words, bins = 50)"
   ]
  },
  {
   "cell_type": "code",
   "execution_count": 107,
   "metadata": {
    "collapsed": false
   },
   "outputs": [
    {
     "data": {
      "text/html": [
       "<div>\n",
       "<table border=\"1\" class=\"dataframe\">\n",
       "  <thead>\n",
       "    <tr style=\"text-align: right;\">\n",
       "      <th></th>\n",
       "      <th>title_chars</th>\n",
       "      <th>title_words</th>\n",
       "      <th>links</th>\n",
       "      <th>images</th>\n",
       "      <th>paragraphs</th>\n",
       "      <th>chars</th>\n",
       "      <th>words</th>\n",
       "      <th>links_per_words</th>\n",
       "      <th>images_per_words</th>\n",
       "    </tr>\n",
       "  </thead>\n",
       "  <tbody>\n",
       "    <tr>\n",
       "      <th>count</th>\n",
       "      <td>403900.000000</td>\n",
       "      <td>403900.000000</td>\n",
       "      <td>403900.000000</td>\n",
       "      <td>403900.000000</td>\n",
       "      <td>403900.000000</td>\n",
       "      <td>403900.000000</td>\n",
       "      <td>403900.000000</td>\n",
       "      <td>403900.000000</td>\n",
       "      <td>403900.000000</td>\n",
       "    </tr>\n",
       "    <tr>\n",
       "      <th>mean</th>\n",
       "      <td>53.876026</td>\n",
       "      <td>9.044088</td>\n",
       "      <td>132.349879</td>\n",
       "      <td>132.349879</td>\n",
       "      <td>3901.964929</td>\n",
       "      <td>7803.052158</td>\n",
       "      <td>4682.334879</td>\n",
       "      <td>0.111038</td>\n",
       "      <td>0.111038</td>\n",
       "    </tr>\n",
       "    <tr>\n",
       "      <th>std</th>\n",
       "      <td>32.377302</td>\n",
       "      <td>5.509125</td>\n",
       "      <td>156.358320</td>\n",
       "      <td>156.358320</td>\n",
       "      <td>5758.322298</td>\n",
       "      <td>11516.561726</td>\n",
       "      <td>7094.850916</td>\n",
       "      <td>0.192785</td>\n",
       "      <td>0.192785</td>\n",
       "    </tr>\n",
       "    <tr>\n",
       "      <th>min</th>\n",
       "      <td>0.000000</td>\n",
       "      <td>1.000000</td>\n",
       "      <td>0.000000</td>\n",
       "      <td>0.000000</td>\n",
       "      <td>0.000000</td>\n",
       "      <td>0.000000</td>\n",
       "      <td>1.000000</td>\n",
       "      <td>0.000000</td>\n",
       "      <td>0.000000</td>\n",
       "    </tr>\n",
       "    <tr>\n",
       "      <th>25%</th>\n",
       "      <td>35.000000</td>\n",
       "      <td>6.000000</td>\n",
       "      <td>46.000000</td>\n",
       "      <td>46.000000</td>\n",
       "      <td>282.000000</td>\n",
       "      <td>563.000000</td>\n",
       "      <td>327.000000</td>\n",
       "      <td>0.009367</td>\n",
       "      <td>0.009367</td>\n",
       "    </tr>\n",
       "    <tr>\n",
       "      <th>50%</th>\n",
       "      <td>52.000000</td>\n",
       "      <td>9.000000</td>\n",
       "      <td>96.000000</td>\n",
       "      <td>96.000000</td>\n",
       "      <td>1726.000000</td>\n",
       "      <td>3451.000000</td>\n",
       "      <td>2015.000000</td>\n",
       "      <td>0.032551</td>\n",
       "      <td>0.032551</td>\n",
       "    </tr>\n",
       "    <tr>\n",
       "      <th>75%</th>\n",
       "      <td>68.000000</td>\n",
       "      <td>12.000000</td>\n",
       "      <td>166.000000</td>\n",
       "      <td>166.000000</td>\n",
       "      <td>4608.000000</td>\n",
       "      <td>9215.000000</td>\n",
       "      <td>5394.000000</td>\n",
       "      <td>0.098460</td>\n",
       "      <td>0.098460</td>\n",
       "    </tr>\n",
       "    <tr>\n",
       "      <th>max</th>\n",
       "      <td>277.505000</td>\n",
       "      <td>48.000000</td>\n",
       "      <td>1316.505000</td>\n",
       "      <td>1316.505000</td>\n",
       "      <td>23120.250000</td>\n",
       "      <td>46239.500000</td>\n",
       "      <td>28756.050000</td>\n",
       "      <td>0.752579</td>\n",
       "      <td>0.752579</td>\n",
       "    </tr>\n",
       "  </tbody>\n",
       "</table>\n",
       "</div>"
      ],
      "text/plain": [
       "         title_chars    title_words          links         images  \\\n",
       "count  403900.000000  403900.000000  403900.000000  403900.000000   \n",
       "mean       53.876026       9.044088     132.349879     132.349879   \n",
       "std        32.377302       5.509125     156.358320     156.358320   \n",
       "min         0.000000       1.000000       0.000000       0.000000   \n",
       "25%        35.000000       6.000000      46.000000      46.000000   \n",
       "50%        52.000000       9.000000      96.000000      96.000000   \n",
       "75%        68.000000      12.000000     166.000000     166.000000   \n",
       "max       277.505000      48.000000    1316.505000    1316.505000   \n",
       "\n",
       "          paragraphs          chars          words  links_per_words  \\\n",
       "count  403900.000000  403900.000000  403900.000000    403900.000000   \n",
       "mean     3901.964929    7803.052158    4682.334879         0.111038   \n",
       "std      5758.322298   11516.561726    7094.850916         0.192785   \n",
       "min         0.000000       0.000000       1.000000         0.000000   \n",
       "25%       282.000000     563.000000     327.000000         0.009367   \n",
       "50%      1726.000000    3451.000000    2015.000000         0.032551   \n",
       "75%      4608.000000    9215.000000    5394.000000         0.098460   \n",
       "max     23120.250000   46239.500000   28756.050000         0.752579   \n",
       "\n",
       "       images_per_words  \n",
       "count     403900.000000  \n",
       "mean           0.111038  \n",
       "std            0.192785  \n",
       "min            0.000000  \n",
       "25%            0.009367  \n",
       "50%            0.032551  \n",
       "75%            0.098460  \n",
       "max            0.752579  "
      ]
     },
     "execution_count": 107,
     "metadata": {},
     "output_type": "execute_result"
    }
   ],
   "source": [
    "features.describe()"
   ]
  },
  {
   "cell_type": "code",
   "execution_count": 108,
   "metadata": {
    "collapsed": true
   },
   "outputs": [],
   "source": [
    "features.to_csv('tmp/features_clean.csv', index=False)"
   ]
  }
 ],
 "metadata": {
  "kernelspec": {
   "display_name": "Python 2",
   "language": "python",
   "name": "python2"
  },
  "language_info": {
   "codemirror_mode": {
    "name": "ipython",
    "version": 2
   },
   "file_extension": ".py",
   "mimetype": "text/x-python",
   "name": "python",
   "nbconvert_exporter": "python",
   "pygments_lexer": "ipython2",
   "version": "2.7.10"
  }
 },
 "nbformat": 4,
 "nbformat_minor": 0
}
